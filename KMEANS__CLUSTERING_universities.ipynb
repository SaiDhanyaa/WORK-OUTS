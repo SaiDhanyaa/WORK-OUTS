{
  "nbformat": 4,
  "nbformat_minor": 0,
  "metadata": {
    "colab": {
      "name": "KMEANS _CLUSTERING_universities.ipynb",
      "provenance": [],
      "collapsed_sections": [],
      "authorship_tag": "ABX9TyNmDaikolB0vGo1dNODKclg",
      "include_colab_link": true
    },
    "kernelspec": {
      "name": "python3",
      "display_name": "Python 3"
    },
    "language_info": {
      "name": "python"
    }
  },
  "cells": [
    {
      "cell_type": "markdown",
      "metadata": {
        "id": "view-in-github",
        "colab_type": "text"
      },
      "source": [
        "<a href=\"https://colab.research.google.com/github/SaiDhanyaa/WORK-OUTS/blob/main/KMEANS__CLUSTERING_universities.ipynb\" target=\"_parent\"><img src=\"https://colab.research.google.com/assets/colab-badge.svg\" alt=\"Open In Colab\"/></a>"
      ]
    },
    {
      "cell_type": "markdown",
      "metadata": {
        "id": "hc_JJfYh99OJ"
      },
      "source": [
        "## ***K-MEANS CLUSTERING***"
      ]
    },
    {
      "cell_type": "code",
      "metadata": {
        "id": "JcE-uNzXiv-9"
      },
      "source": [
        "import numpy as np\n",
        "import pandas as pd\n",
        "from matplotlib import pyplot as plt\n",
        "from sklearn.cluster import KMeans"
      ],
      "execution_count": 28,
      "outputs": []
    },
    {
      "cell_type": "code",
      "metadata": {
        "id": "7QEawAJOjO3E"
      },
      "source": [
        "univ = pd.read_csv(\"/content/Universities.csv\")"
      ],
      "execution_count": 29,
      "outputs": []
    },
    {
      "cell_type": "code",
      "metadata": {
        "id": "oiOL4Kh1jcIs"
      },
      "source": [
        "univ.head()"
      ],
      "execution_count": null,
      "outputs": []
    },
    {
      "cell_type": "code",
      "metadata": {
        "id": "Aud6apqSjO5n"
      },
      "source": [
        "# Normalization function \n",
        "from sklearn.preprocessing import StandardScaler\n",
        "scaler = StandardScaler()\n",
        "scaled_univ_df = scaler.fit_transform(univ.iloc[:,1:])"
      ],
      "execution_count": 31,
      "outputs": []
    },
    {
      "cell_type": "code",
      "metadata": {
        "id": "HwdFuMsOjO9f"
      },
      "source": [
        "# How to find optimum number of  cluster\n",
        "#The K-means algorithm aims to choose centroids that minimise the inertia, or within-cluster sum-of-squares criterion:"
      ],
      "execution_count": 32,
      "outputs": []
    },
    {
      "cell_type": "code",
      "metadata": {
        "id": "QaqkIFImjPAV"
      },
      "source": [
        "wcss = []\n",
        "for i in range(1, 11):\n",
        "    kmeans = KMeans(n_clusters=i,random_state=0)\n",
        "    kmeans.fit(scaled_univ_df)\n",
        "    wcss.append(kmeans.inertia_)\n",
        "    \n",
        "plt.plot(range(1, 11), wcss)\n",
        "plt.title('Elbow Method')\n",
        "plt.xlabel('Number of clusters')\n",
        "plt.ylabel('WCSS')\n",
        "plt.show()"
      ],
      "execution_count": null,
      "outputs": []
    },
    {
      "cell_type": "code",
      "metadata": {
        "id": "H0_YmIw1pkn6"
      },
      "source": [
        ""
      ],
      "execution_count": 33,
      "outputs": []
    },
    {
      "cell_type": "markdown",
      "metadata": {
        "id": "e4i4B2lgrrHt"
      },
      "source": [
        "# ***WE HAVE CHOSEN THE BEST K VALUE IS 4. AND WE ARE GOING WITH IT***"
      ]
    },
    {
      "cell_type": "code",
      "metadata": {
        "colab": {
          "base_uri": "https://localhost:8080/"
        },
        "id": "jA9IDzvcpkrz",
        "outputId": "0cbaee5d-7cad-45bd-b901-ec08efcf2fd0"
      },
      "source": [
        "#Build Cluster algorithm\n",
        "from sklearn.cluster import KMeans\n",
        "clusters_new = KMeans(4, random_state=42)\n",
        "clusters_new.fit(scaled_univ_df)"
      ],
      "execution_count": 34,
      "outputs": [
        {
          "output_type": "execute_result",
          "data": {
            "text/plain": [
              "KMeans(algorithm='auto', copy_x=True, init='k-means++', max_iter=300,\n",
              "       n_clusters=4, n_init=10, n_jobs=None, precompute_distances='auto',\n",
              "       random_state=42, tol=0.0001, verbose=0)"
            ]
          },
          "metadata": {},
          "execution_count": 34
        }
      ]
    },
    {
      "cell_type": "code",
      "metadata": {
        "colab": {
          "base_uri": "https://localhost:8080/"
        },
        "id": "y79avKWnpkvO",
        "outputId": "c3d1d84f-4644-4f0b-8608-ec11d3a3ebc9"
      },
      "source": [
        "clusters_new.labels_"
      ],
      "execution_count": 35,
      "outputs": [
        {
          "output_type": "execute_result",
          "data": {
            "text/plain": [
              "array([0, 3, 2, 0, 2, 0, 0, 2, 0, 3, 0, 2, 2, 1, 0, 1, 0, 1, 2, 2, 2, 2,\n",
              "       2, 1, 0], dtype=int32)"
            ]
          },
          "metadata": {},
          "execution_count": 35
        }
      ]
    },
    {
      "cell_type": "markdown",
      "metadata": {
        "id": "YhgWbfRIsECi"
      },
      "source": [
        "# ***THESE ARE THE CLUSTER MEMBERS, THAT WE ARE GOING TO APPEND IT IN THE UNIVERSITY DATASET***"
      ]
    },
    {
      "cell_type": "code",
      "metadata": {
        "id": "VrW6Gw9jpkyW"
      },
      "source": [
        "#Assign clusters to the data set\n",
        "univ['clust4'] = clusters_new.labels_"
      ],
      "execution_count": 36,
      "outputs": []
    },
    {
      "cell_type": "code",
      "metadata": {
        "id": "HGJKfB6QsXAa"
      },
      "source": [
        "univ"
      ],
      "execution_count": null,
      "outputs": []
    },
    {
      "cell_type": "code",
      "metadata": {
        "id": "xTNKL91psXFu"
      },
      "source": [
        "univ.iloc[:,1:].groupby(univ.clust4).mean()"
      ],
      "execution_count": null,
      "outputs": []
    },
    {
      "cell_type": "code",
      "metadata": {
        "id": "DU0gDxOXvRlr"
      },
      "source": [
        "univ "
      ],
      "execution_count": null,
      "outputs": []
    },
    {
      "cell_type": "markdown",
      "metadata": {
        "id": "JPhhJGJL-33g"
      },
      "source": [
        "## **INFERENCES:**\n",
        "\n",
        "***The universities in the cluster 3 have higher SAT scores, higher in the top10, lowest student-facult ratio, highest exxpenses, and with highest grad rates among other clusters.So, the universiies in cluster 3 are the BEST UNIVERSITIES COMPARATIVELY *** "
      ]
    },
    {
      "cell_type": "code",
      "metadata": {
        "id": "UvUaPvlo-4-w"
      },
      "source": [
        ""
      ],
      "execution_count": null,
      "outputs": []
    }
  ]
}