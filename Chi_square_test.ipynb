{
  "nbformat": 4,
  "nbformat_minor": 0,
  "metadata": {
    "colab": {
      "name": "Chi square test.ipynb",
      "provenance": [],
      "collapsed_sections": [],
      "authorship_tag": "ABX9TyOrn5bFeGJ9e5Je45ygOHkM",
      "include_colab_link": true
    },
    "kernelspec": {
      "name": "python3",
      "display_name": "Python 3"
    },
    "language_info": {
      "name": "python"
    }
  },
  "cells": [
    {
      "cell_type": "markdown",
      "metadata": {
        "id": "view-in-github",
        "colab_type": "text"
      },
      "source": [
        "<a href=\"https://colab.research.google.com/github/SaiDhanyaa/Random-variable/blob/main/Chi_square_test.ipynb\" target=\"_parent\"><img src=\"https://colab.research.google.com/assets/colab-badge.svg\" alt=\"Open In Colab\"/></a>"
      ]
    },
    {
      "cell_type": "code",
      "metadata": {
        "id": "p6Hk6_s_4RIj"
      },
      "source": [
        "import pandas as pd\n",
        "import scipy.stats  as stats"
      ],
      "execution_count": 32,
      "outputs": []
    },
    {
      "cell_type": "code",
      "metadata": {
        "id": "gCgdaVtmynRp"
      },
      "source": [
        "## creation of data\n",
        "data= [['athelete','smoker'] for i in range(4)] + \\\n",
        " [['athelete','non-smoker'] for i in range(14)] + \\\n",
        " [['non-athelete','smoker'] for i in range(10)]+ \\\n",
        " [['non-athelete','non-smoker'] for i in range(0)]"
      ],
      "execution_count": 33,
      "outputs": []
    },
    {
      "cell_type": "code",
      "metadata": {
        "id": "4Z_18NNa4RFo"
      },
      "source": [
        "df= pd.DataFrame(data,columns=['person','character'])"
      ],
      "execution_count": 34,
      "outputs": []
    },
    {
      "cell_type": "code",
      "metadata": {
        "colab": {
          "base_uri": "https://localhost:8080/",
          "height": 923
        },
        "id": "x-90PM5I3-Lf",
        "outputId": "3434f387-f7e4-4180-880b-502f87f48280"
      },
      "source": [
        "df"
      ],
      "execution_count": 35,
      "outputs": [
        {
          "output_type": "execute_result",
          "data": {
            "text/html": [
              "<div>\n",
              "<style scoped>\n",
              "    .dataframe tbody tr th:only-of-type {\n",
              "        vertical-align: middle;\n",
              "    }\n",
              "\n",
              "    .dataframe tbody tr th {\n",
              "        vertical-align: top;\n",
              "    }\n",
              "\n",
              "    .dataframe thead th {\n",
              "        text-align: right;\n",
              "    }\n",
              "</style>\n",
              "<table border=\"1\" class=\"dataframe\">\n",
              "  <thead>\n",
              "    <tr style=\"text-align: right;\">\n",
              "      <th></th>\n",
              "      <th>person</th>\n",
              "      <th>character</th>\n",
              "    </tr>\n",
              "  </thead>\n",
              "  <tbody>\n",
              "    <tr>\n",
              "      <th>0</th>\n",
              "      <td>athelete</td>\n",
              "      <td>smoker</td>\n",
              "    </tr>\n",
              "    <tr>\n",
              "      <th>1</th>\n",
              "      <td>athelete</td>\n",
              "      <td>smoker</td>\n",
              "    </tr>\n",
              "    <tr>\n",
              "      <th>2</th>\n",
              "      <td>athelete</td>\n",
              "      <td>smoker</td>\n",
              "    </tr>\n",
              "    <tr>\n",
              "      <th>3</th>\n",
              "      <td>athelete</td>\n",
              "      <td>smoker</td>\n",
              "    </tr>\n",
              "    <tr>\n",
              "      <th>4</th>\n",
              "      <td>athelete</td>\n",
              "      <td>non-smoker</td>\n",
              "    </tr>\n",
              "    <tr>\n",
              "      <th>5</th>\n",
              "      <td>athelete</td>\n",
              "      <td>non-smoker</td>\n",
              "    </tr>\n",
              "    <tr>\n",
              "      <th>6</th>\n",
              "      <td>athelete</td>\n",
              "      <td>non-smoker</td>\n",
              "    </tr>\n",
              "    <tr>\n",
              "      <th>7</th>\n",
              "      <td>athelete</td>\n",
              "      <td>non-smoker</td>\n",
              "    </tr>\n",
              "    <tr>\n",
              "      <th>8</th>\n",
              "      <td>athelete</td>\n",
              "      <td>non-smoker</td>\n",
              "    </tr>\n",
              "    <tr>\n",
              "      <th>9</th>\n",
              "      <td>athelete</td>\n",
              "      <td>non-smoker</td>\n",
              "    </tr>\n",
              "    <tr>\n",
              "      <th>10</th>\n",
              "      <td>athelete</td>\n",
              "      <td>non-smoker</td>\n",
              "    </tr>\n",
              "    <tr>\n",
              "      <th>11</th>\n",
              "      <td>athelete</td>\n",
              "      <td>non-smoker</td>\n",
              "    </tr>\n",
              "    <tr>\n",
              "      <th>12</th>\n",
              "      <td>athelete</td>\n",
              "      <td>non-smoker</td>\n",
              "    </tr>\n",
              "    <tr>\n",
              "      <th>13</th>\n",
              "      <td>athelete</td>\n",
              "      <td>non-smoker</td>\n",
              "    </tr>\n",
              "    <tr>\n",
              "      <th>14</th>\n",
              "      <td>athelete</td>\n",
              "      <td>non-smoker</td>\n",
              "    </tr>\n",
              "    <tr>\n",
              "      <th>15</th>\n",
              "      <td>athelete</td>\n",
              "      <td>non-smoker</td>\n",
              "    </tr>\n",
              "    <tr>\n",
              "      <th>16</th>\n",
              "      <td>athelete</td>\n",
              "      <td>non-smoker</td>\n",
              "    </tr>\n",
              "    <tr>\n",
              "      <th>17</th>\n",
              "      <td>athelete</td>\n",
              "      <td>non-smoker</td>\n",
              "    </tr>\n",
              "    <tr>\n",
              "      <th>18</th>\n",
              "      <td>non-athelete</td>\n",
              "      <td>smoker</td>\n",
              "    </tr>\n",
              "    <tr>\n",
              "      <th>19</th>\n",
              "      <td>non-athelete</td>\n",
              "      <td>smoker</td>\n",
              "    </tr>\n",
              "    <tr>\n",
              "      <th>20</th>\n",
              "      <td>non-athelete</td>\n",
              "      <td>smoker</td>\n",
              "    </tr>\n",
              "    <tr>\n",
              "      <th>21</th>\n",
              "      <td>non-athelete</td>\n",
              "      <td>smoker</td>\n",
              "    </tr>\n",
              "    <tr>\n",
              "      <th>22</th>\n",
              "      <td>non-athelete</td>\n",
              "      <td>smoker</td>\n",
              "    </tr>\n",
              "    <tr>\n",
              "      <th>23</th>\n",
              "      <td>non-athelete</td>\n",
              "      <td>smoker</td>\n",
              "    </tr>\n",
              "    <tr>\n",
              "      <th>24</th>\n",
              "      <td>non-athelete</td>\n",
              "      <td>smoker</td>\n",
              "    </tr>\n",
              "    <tr>\n",
              "      <th>25</th>\n",
              "      <td>non-athelete</td>\n",
              "      <td>smoker</td>\n",
              "    </tr>\n",
              "    <tr>\n",
              "      <th>26</th>\n",
              "      <td>non-athelete</td>\n",
              "      <td>smoker</td>\n",
              "    </tr>\n",
              "    <tr>\n",
              "      <th>27</th>\n",
              "      <td>non-athelete</td>\n",
              "      <td>smoker</td>\n",
              "    </tr>\n",
              "  </tbody>\n",
              "</table>\n",
              "</div>"
            ],
            "text/plain": [
              "          person   character\n",
              "0       athelete      smoker\n",
              "1       athelete      smoker\n",
              "2       athelete      smoker\n",
              "3       athelete      smoker\n",
              "4       athelete  non-smoker\n",
              "5       athelete  non-smoker\n",
              "6       athelete  non-smoker\n",
              "7       athelete  non-smoker\n",
              "8       athelete  non-smoker\n",
              "9       athelete  non-smoker\n",
              "10      athelete  non-smoker\n",
              "11      athelete  non-smoker\n",
              "12      athelete  non-smoker\n",
              "13      athelete  non-smoker\n",
              "14      athelete  non-smoker\n",
              "15      athelete  non-smoker\n",
              "16      athelete  non-smoker\n",
              "17      athelete  non-smoker\n",
              "18  non-athelete      smoker\n",
              "19  non-athelete      smoker\n",
              "20  non-athelete      smoker\n",
              "21  non-athelete      smoker\n",
              "22  non-athelete      smoker\n",
              "23  non-athelete      smoker\n",
              "24  non-athelete      smoker\n",
              "25  non-athelete      smoker\n",
              "26  non-athelete      smoker\n",
              "27  non-athelete      smoker"
            ]
          },
          "metadata": {},
          "execution_count": 35
        }
      ]
    },
    {
      "cell_type": "code",
      "metadata": {
        "id": "FNjYi61U3-OB"
      },
      "source": [
        "#create contigency table\n",
        "data_crosstab= pd.crosstab(df['person'],df['character'],margins=True, margins_name='total')"
      ],
      "execution_count": 43,
      "outputs": []
    },
    {
      "cell_type": "code",
      "metadata": {
        "id": "kQhiDLVn3-Qs"
      },
      "source": [
        "##significance level\n",
        "\n",
        "alpha=0.05"
      ],
      "execution_count": 37,
      "outputs": []
    },
    {
      "cell_type": "code",
      "metadata": {
        "id": "uyRE7N7I3-Sy"
      },
      "source": [
        "# Calcualtion of Chisquare test statistics\n",
        "chi_square=0\n",
        "\n",
        "\n",
        "rows = df['person'].unique()\n",
        "columns = df['character'].unique()\n",
        "\n",
        "for i in columns:\n",
        "  for j in rows:\n",
        "    O = data_crosstab[i][j]\n",
        "    E = data_crosstab[i]['total'] *data_crosstab['total'][j] / data_crosstab['total']['total']\n",
        "    chi_square= (O-E)**2/E"
      ],
      "execution_count": 38,
      "outputs": []
    },
    {
      "cell_type": "code",
      "metadata": {
        "colab": {
          "base_uri": "https://localhost:8080/"
        },
        "id": "G1vBI5rLBwNb",
        "outputId": "cef666cb-fd5c-47c1-aa33-10435d0080dc"
      },
      "source": [
        "chi_square"
      ],
      "execution_count": 39,
      "outputs": [
        {
          "output_type": "execute_result",
          "data": {
            "text/plain": [
              "5.0"
            ]
          },
          "metadata": {},
          "execution_count": 39
        }
      ]
    },
    {
      "cell_type": "code",
      "metadata": {
        "id": "3qjcRo_L3-Xx"
      },
      "source": [
        "dof= (len(rows)-1) * (len(columns)-1)"
      ],
      "execution_count": 44,
      "outputs": []
    },
    {
      "cell_type": "code",
      "metadata": {
        "colab": {
          "base_uri": "https://localhost:8080/"
        },
        "id": "35oYT4sdCEOI",
        "outputId": "d3f8ff21-44d2-4022-d32d-a6102077737e"
      },
      "source": [
        "dof"
      ],
      "execution_count": 45,
      "outputs": [
        {
          "output_type": "execute_result",
          "data": {
            "text/plain": [
              "1"
            ]
          },
          "metadata": {},
          "execution_count": 45
        }
      ]
    },
    {
      "cell_type": "markdown",
      "metadata": {
        "id": "UXUouKwFCElO"
      },
      "source": [
        "# **P- VALUE APPROACH**"
      ]
    },
    {
      "cell_type": "code",
      "metadata": {
        "colab": {
          "base_uri": "https://localhost:8080/"
        },
        "id": "Iu0hnlN23-U7",
        "outputId": "8bf8932b-7664-4325-94ff-0b55f367492d"
      },
      "source": [
        "## The p-value approach\n",
        "\n",
        "print(\"Approach 1: The p-value approach to hypothesis testing in the decision rule\")\n",
        "\n",
        "p_value=1- stats.norm.cdf(chi_square, dof)\n",
        "\n",
        "\n",
        "conclusion=\"Reject null hypothesis\"\n",
        "\n",
        "if p_value > alpha:\n",
        "  conclusion = \"Failed to reject null hypothesis\"\n",
        "  \n",
        "print(\"chisquare-score is:\", chi_square, \" and p value is:\", critical_value)\n",
        "\n",
        "print(conclusion)\n"
      ],
      "execution_count": 41,
      "outputs": [
        {
          "output_type": "stream",
          "name": "stdout",
          "text": [
            "Approach 1: The p-value approach to hypothesis testing in the decision rule\n",
            "chisquare-score is: 5.0  and p value is: 3.841458820694124\n",
            "Reject null hypothesis\n"
          ]
        }
      ]
    },
    {
      "cell_type": "code",
      "metadata": {
        "id": "093PXoie3-Zs"
      },
      "source": [
        ""
      ],
      "execution_count": 41,
      "outputs": []
    },
    {
      "cell_type": "markdown",
      "metadata": {
        "id": "t9oMHU1OAxsY"
      },
      "source": [
        "# **CRITICAL VALUE APPROACH**"
      ]
    },
    {
      "cell_type": "code",
      "metadata": {
        "colab": {
          "base_uri": "https://localhost:8080/"
        },
        "id": "4fGwUQ6JAwq1",
        "outputId": "4f627065-9303-4e83-e3ed-6e5e230d8c59"
      },
      "source": [
        "print(\"Approach 2: The critical value approach to hypothesis testing in the decision rule\")\n",
        "\n",
        "critical_value= stats.chi2.ppf(1-alpha , dof)\n",
        "\n",
        "conclusion=\"Reject null hypothesis\"\n",
        "\n",
        "if critical_value <= alpha:\n",
        "  conclusion = \"Failed to reject null hypothesis\"\n",
        "\n",
        "print(\"chisquare-score is:\", chi_square, \" and p value is:\", critical_value)\n",
        "\n",
        "print(conclusion)"
      ],
      "execution_count": 42,
      "outputs": [
        {
          "output_type": "stream",
          "name": "stdout",
          "text": [
            "Approach 2: The critical value approach to hypothesis testing in the decision rule\n",
            "chisquare-score is: 5.0  and p value is: 3.841458820694124\n",
            "Reject null hypothesis\n"
          ]
        }
      ]
    }
  ]
}