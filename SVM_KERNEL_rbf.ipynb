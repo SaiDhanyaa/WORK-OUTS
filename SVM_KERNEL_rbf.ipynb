{
  "nbformat": 4,
  "nbformat_minor": 0,
  "metadata": {
    "colab": {
      "name": "SVM_KERNEL: rbf.ipynb",
      "provenance": [],
      "collapsed_sections": [],
      "authorship_tag": "ABX9TyMWPf3I2j2TNcbBMyHyhW5/",
      "include_colab_link": true
    },
    "kernelspec": {
      "name": "python3",
      "display_name": "Python 3"
    },
    "language_info": {
      "name": "python"
    }
  },
  "cells": [
    {
      "cell_type": "markdown",
      "metadata": {
        "id": "view-in-github",
        "colab_type": "text"
      },
      "source": [
        "<a href=\"https://colab.research.google.com/github/SaiDhanyaa/WORK-OUTS/blob/main/SVM_KERNEL_rbf.ipynb\" target=\"_parent\"><img src=\"https://colab.research.google.com/assets/colab-badge.svg\" alt=\"Open In Colab\"/></a>"
      ]
    },
    {
      "cell_type": "code",
      "metadata": {
        "id": "86OWlD2KDsFS"
      },
      "source": [
        " ### SVM Classification\n",
        "import pandas as pd\n",
        "import numpy as np\n",
        "from sklearn.preprocessing import StandardScaler\n",
        "\n",
        "from sklearn import svm\n",
        "from sklearn.svm import SVC    ####SVC Is the Support Vector Classifier\n",
        "from sklearn.model_selection import GridSearchCV\n",
        "from sklearn.metrics import classification_report\n",
        "\n",
        "\n",
        "from sklearn.metrics import accuracy_score, confusion_matrix\n",
        "from sklearn.model_selection import train_test_split, cross_val_score"
      ],
      "execution_count": null,
      "outputs": []
    },
    {
      "cell_type": "code",
      "metadata": {
        "id": "de3iocGEV7Ju"
      },
      "source": [
        "filename = 'pima-indians-diabetes.data.csv'\n",
        "names = ['preg', 'plas', 'pres', 'skin', 'test', 'mass', 'pedi', 'age', 'class']\n",
        "dataframe = pd.read_csv(filename, names=names)\n",
        "array = dataframe.values\n",
        "X = array[:,0:8]\n",
        "Y = array[:,8]"
      ],
      "execution_count": null,
      "outputs": []
    },
    {
      "cell_type": "code",
      "metadata": {
        "id": "-yzymJjTV7MW"
      },
      "source": [
        "X_train, X_test, y_train, y_test = train_test_split(X,Y, test_size = 0.3)\n",
        " "
      ],
      "execution_count": null,
      "outputs": []
    },
    {
      "cell_type": "code",
      "metadata": {
        "colab": {
          "base_uri": "https://localhost:8080/"
        },
        "id": "XkngR71HWVno",
        "outputId": "30191f25-6ae2-4668-9694-e24e8f848543"
      },
      "source": [
        "X_train.shape, y_train.shape, X_test.shape, y_test.shape"
      ],
      "execution_count": null,
      "outputs": [
        {
          "output_type": "execute_result",
          "data": {
            "text/plain": [
              "((537, 8), (537,), (231, 8), (231,))"
            ]
          },
          "metadata": {},
          "execution_count": 4
        }
      ]
    },
    {
      "cell_type": "markdown",
      "metadata": {
        "id": "ukMjrcDXyf6s"
      },
      "source": [
        "## **KERNEL: rbf**"
      ]
    },
    {
      "cell_type": "code",
      "metadata": {
        "id": "aKSUDf2pV7QU",
        "colab": {
          "base_uri": "https://localhost:8080/"
        },
        "outputId": "e87fecdf-518b-4a5b-8b91-27c1088c90de"
      },
      "source": [
        "### Grid Search CV..  TO KNO WHICH KERNEL AND WHICH GAMMA VALUE IS BEST, GO FOR GRID SEARCH BY GIVING RANGE OF GAMMA VALUES..\n",
        "clf = SVC()\n",
        "param_grid = [{'kernel':['rbf'],'gamma':[50,5,10,0.5],'C':[15,14,13,12,11,10,0.1,0.001] }]\n",
        "gsv = GridSearchCV(clf,param_grid,cv=10)\n",
        "gsv.fit(X_train,y_train)"
      ],
      "execution_count": null,
      "outputs": [
        {
          "output_type": "execute_result",
          "data": {
            "text/plain": [
              "GridSearchCV(cv=10, error_score=nan,\n",
              "             estimator=SVC(C=1.0, break_ties=False, cache_size=200,\n",
              "                           class_weight=None, coef0=0.0,\n",
              "                           decision_function_shape='ovr', degree=3,\n",
              "                           gamma='scale', kernel='rbf', max_iter=-1,\n",
              "                           probability=False, random_state=None, shrinking=True,\n",
              "                           tol=0.001, verbose=False),\n",
              "             iid='deprecated', n_jobs=None,\n",
              "             param_grid=[{'C': [15, 14, 13, 12, 11, 10, 0.1, 0.001],\n",
              "                          'gamma': [50, 5, 10, 0.5], 'kernel': ['rbf']}],\n",
              "             pre_dispatch='2*n_jobs', refit=True, return_train_score=False,\n",
              "             scoring=None, verbose=0)"
            ]
          },
          "metadata": {},
          "execution_count": 5
        }
      ]
    },
    {
      "cell_type": "code",
      "metadata": {
        "id": "tQWDugDQWOwV",
        "colab": {
          "base_uri": "https://localhost:8080/"
        },
        "outputId": "c7a3ca36-ada1-4496-b369-22a959fedbda"
      },
      "source": [
        "gsv.best_params_ , gsv.best_score_   #### this gives the best gamma value and kernel"
      ],
      "execution_count": null,
      "outputs": [
        {
          "output_type": "execute_result",
          "data": {
            "text/plain": [
              "({'C': 15, 'gamma': 50, 'kernel': 'rbf'}, 0.6443046820405312)"
            ]
          },
          "metadata": {},
          "execution_count": 6
        }
      ]
    },
    {
      "cell_type": "code",
      "metadata": {
        "id": "Co2fzSXLWQKM",
        "colab": {
          "base_uri": "https://localhost:8080/"
        },
        "outputId": "f309b184-406e-4806-8aab-deab6caabd50"
      },
      "source": [
        "clf = SVC(C= 15, gamma = 0.5)\n",
        "clf.fit(X_train , y_train)    ####build thhe model\n",
        "y_pred = clf.predict(X_test)     #### then go for prediction\n",
        "acc = accuracy_score(y_test, y_pred) * 100     #### then find the accuracy\n",
        "print(\"Accuracy =\", acc)\n",
        "confusion_matrix(y_test, y_pred)"
      ],
      "execution_count": null,
      "outputs": [
        {
          "output_type": "stream",
          "name": "stdout",
          "text": [
            "Accuracy = 66.66666666666666\n"
          ]
        },
        {
          "output_type": "execute_result",
          "data": {
            "text/plain": [
              "array([[154,   0],\n",
              "       [ 77,   0]])"
            ]
          },
          "metadata": {},
          "execution_count": 7
        }
      ]
    }
  ]
}