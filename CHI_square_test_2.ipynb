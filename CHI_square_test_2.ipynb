{
  "nbformat": 4,
  "nbformat_minor": 0,
  "metadata": {
    "colab": {
      "name": "CHI_square_test_2.ipynb",
      "provenance": [],
      "authorship_tag": "ABX9TyPJXJ0b8vu0FwXh7Le1Oefb",
      "include_colab_link": true
    },
    "kernelspec": {
      "name": "python3",
      "display_name": "Python 3"
    },
    "language_info": {
      "name": "python"
    }
  },
  "cells": [
    {
      "cell_type": "markdown",
      "metadata": {
        "id": "view-in-github",
        "colab_type": "text"
      },
      "source": [
        "<a href=\"https://colab.research.google.com/github/SaiDhanyaa/Random-variable/blob/main/CHI_square_test_2.ipynb\" target=\"_parent\"><img src=\"https://colab.research.google.com/assets/colab-badge.svg\" alt=\"Open In Colab\"/></a>"
      ]
    },
    {
      "cell_type": "markdown",
      "metadata": {
        "id": "jhzx35gxF73C"
      },
      "source": [
        "### (The table below displays the more than 44 million people voting result for 2013 German Federal Election. 41.5% of German vote for the Christian Democratic Union (CDU), 25.7% for the Social Democratic Party (SPD) and the remaining 32.8% as Others.\n",
        "Assume the researcher take a random sample and pick 123 students of FU Berlin about their party affiliation. \n",
        "Out of them 57 vote for CDU, 26 vote for SPD and 40 for Others. \n",
        "These number corresponds to the observed frequencies.\n",
        "\n",
        "\n",
        "According to five steps process of hypothesis testing:\n",
        "H₀: The variable has the specified distribution, i.e. the observed and expected frequencies are roughly equal\n",
        "H₁: The variable does not have the specified distribution, not normal\n",
        "α = 0.05\n",
        "Following χ2 Goodness-Of-Fit test statistics:)  \n"
      ]
    },
    {
      "cell_type": "code",
      "metadata": {
        "id": "OSpe5jKQDAks"
      },
      "source": [
        "import pandas as pd\n",
        "from scipy import stats as stats"
      ],
      "execution_count": 30,
      "outputs": []
    },
    {
      "cell_type": "code",
      "metadata": {
        "id": "6612DW5uDBmr"
      },
      "source": [
        "# Creation of data\n",
        "data = [['CDU', 0.415, 57], ['SPD', 0.257, 26], ['Others', 0.328, 40]] \n",
        "df = pd.DataFrame(data, columns = ['Varname', 'prob_dist', 'observed_freq']) \n",
        "df['expected_freq'] = df['observed_freq'].sum() * df['prob_dist']\n"
      ],
      "execution_count": 31,
      "outputs": []
    },
    {
      "cell_type": "code",
      "metadata": {
        "colab": {
          "base_uri": "https://localhost:8080/",
          "height": 143
        },
        "id": "xtJ56NYvDBpK",
        "outputId": "33d5585f-8456-45d8-f344-4f084fb43699"
      },
      "source": [
        "df\n"
      ],
      "execution_count": 32,
      "outputs": [
        {
          "output_type": "execute_result",
          "data": {
            "text/html": [
              "<div>\n",
              "<style scoped>\n",
              "    .dataframe tbody tr th:only-of-type {\n",
              "        vertical-align: middle;\n",
              "    }\n",
              "\n",
              "    .dataframe tbody tr th {\n",
              "        vertical-align: top;\n",
              "    }\n",
              "\n",
              "    .dataframe thead th {\n",
              "        text-align: right;\n",
              "    }\n",
              "</style>\n",
              "<table border=\"1\" class=\"dataframe\">\n",
              "  <thead>\n",
              "    <tr style=\"text-align: right;\">\n",
              "      <th></th>\n",
              "      <th>Varname</th>\n",
              "      <th>prob_dist</th>\n",
              "      <th>observed_freq</th>\n",
              "      <th>expected_freq</th>\n",
              "    </tr>\n",
              "  </thead>\n",
              "  <tbody>\n",
              "    <tr>\n",
              "      <th>0</th>\n",
              "      <td>CDU</td>\n",
              "      <td>0.415</td>\n",
              "      <td>57</td>\n",
              "      <td>51.045</td>\n",
              "    </tr>\n",
              "    <tr>\n",
              "      <th>1</th>\n",
              "      <td>SPD</td>\n",
              "      <td>0.257</td>\n",
              "      <td>26</td>\n",
              "      <td>31.611</td>\n",
              "    </tr>\n",
              "    <tr>\n",
              "      <th>2</th>\n",
              "      <td>Others</td>\n",
              "      <td>0.328</td>\n",
              "      <td>40</td>\n",
              "      <td>40.344</td>\n",
              "    </tr>\n",
              "  </tbody>\n",
              "</table>\n",
              "</div>"
            ],
            "text/plain": [
              "  Varname  prob_dist  observed_freq  expected_freq\n",
              "0     CDU      0.415             57         51.045\n",
              "1     SPD      0.257             26         31.611\n",
              "2  Others      0.328             40         40.344"
            ]
          },
          "metadata": {},
          "execution_count": 32
        }
      ]
    },
    {
      "cell_type": "code",
      "metadata": {
        "colab": {
          "base_uri": "https://localhost:8080/"
        },
        "id": "FGwmZGTVDBtA",
        "outputId": "d282be60-e91a-4754-cee7-6253d4aaee0b"
      },
      "source": [
        "df['expected_freq']"
      ],
      "execution_count": 33,
      "outputs": [
        {
          "output_type": "execute_result",
          "data": {
            "text/plain": [
              "0    51.045\n",
              "1    31.611\n",
              "2    40.344\n",
              "Name: expected_freq, dtype: float64"
            ]
          },
          "metadata": {},
          "execution_count": 33
        }
      ]
    },
    {
      "cell_type": "code",
      "metadata": {
        "id": "83Tqi07oDQdy"
      },
      "source": [
        "# significance level\n",
        "alpha = 0.05"
      ],
      "execution_count": 34,
      "outputs": []
    },
    {
      "cell_type": "code",
      "metadata": {
        "id": "he3v_dpyDQgs"
      },
      "source": [
        "# Calcualtion of Chisquare test statistics\n",
        "chi_square = 0\n",
        "for i in range(len(df)):\n",
        "    O = df.loc[i, 'observed_freq']\n",
        "    E = df.loc[i, 'expected_freq']\n",
        "    chi_square = (O-E)**2/E"
      ],
      "execution_count": 35,
      "outputs": []
    },
    {
      "cell_type": "code",
      "metadata": {
        "colab": {
          "base_uri": "https://localhost:8080/"
        },
        "id": "LBX8J5M6DQk7",
        "outputId": "3337849e-d147-4b3f-f928-4d1646ef4dda"
      },
      "source": [
        "chi_square"
      ],
      "execution_count": 36,
      "outputs": [
        {
          "output_type": "execute_result",
          "data": {
            "text/plain": [
              "0.0029331746976006545"
            ]
          },
          "metadata": {},
          "execution_count": 36
        }
      ]
    },
    {
      "cell_type": "code",
      "metadata": {
        "id": "DbeN_weADZ8i"
      },
      "source": [
        ""
      ],
      "execution_count": 36,
      "outputs": []
    },
    {
      "cell_type": "markdown",
      "metadata": {
        "id": "_1wG_M-hDbG_"
      },
      "source": [
        "## **# The p-value approach**"
      ]
    },
    {
      "cell_type": "code",
      "metadata": {
        "colab": {
          "base_uri": "https://localhost:8080/"
        },
        "id": "8jGn4JIsDQn5",
        "outputId": "386d9914-310b-462a-8601-fd1813f372fa"
      },
      "source": [
        "# The p-value approach\n",
        "print(\"Approach 1: The p-value approach to hypothesis testing in the decision rule\")\n",
        "p_value = 1 - stats.norm.cdf(chi_square, df['Varname'].nunique() - 1)\n",
        "conclusion = \"Failed to reject the null hypothesis.\"\n",
        "if p_value <= alpha:\n",
        "    conclusion = \"Null Hypothesis is rejected.\"\n",
        "        \n",
        "print(\"chisquare-score is:\", chi_square, \" and p value is:\", p_value)\n",
        "print(conclusion)\n",
        "    "
      ],
      "execution_count": 37,
      "outputs": [
        {
          "output_type": "stream",
          "name": "stdout",
          "text": [
            "Approach 1: The p-value approach to hypothesis testing in the decision rule\n",
            "chisquare-score is: 0.0029331746976006545  and p value is: 0.9770910379213394\n",
            "Failed to reject the null hypothesis.\n"
          ]
        }
      ]
    },
    {
      "cell_type": "code",
      "metadata": {
        "id": "FPHP9jeKDQrl"
      },
      "source": [
        ""
      ],
      "execution_count": 37,
      "outputs": []
    },
    {
      "cell_type": "markdown",
      "metadata": {
        "id": "_zPMf2S0DjFt"
      },
      "source": [
        "## **# The critical value approach**"
      ]
    },
    {
      "cell_type": "code",
      "metadata": {
        "colab": {
          "base_uri": "https://localhost:8080/"
        },
        "id": "gr-A0gt2DQu1",
        "outputId": "f58212cc-e8b8-4f7a-a283-8383ec05cddd"
      },
      "source": [
        "# The critical value approach\n",
        "print(\"\\n--------------------------------------------------------------------------------------\")\n",
        "print(\"Approach 2: The critical value approach to hypothesis testing in the decision rule\")\n",
        "critical_value = stats.chi2.ppf(1-alpha, df['Varname'].nunique() - 1)\n",
        "conclusion = \"Failed to reject the null hypothesis.\"\n",
        "if chi_square > critical_value:\n",
        "    conclusion = \"Null Hypothesis is rejected.\"\n",
        "        \n",
        "print(\"chisquare-score is:\", chi_square, \" and p value is:\", critical_value)\n",
        "print(conclusion)"
      ],
      "execution_count": 38,
      "outputs": [
        {
          "output_type": "stream",
          "name": "stdout",
          "text": [
            "\n",
            "--------------------------------------------------------------------------------------\n",
            "Approach 2: The critical value approach to hypothesis testing in the decision rule\n",
            "chisquare-score is: 0.0029331746976006545  and p value is: 5.991464547107979\n",
            "Failed to reject the null hypothesis.\n"
          ]
        }
      ]
    },
    {
      "cell_type": "code",
      "metadata": {
        "id": "4tcOs4MUDQxj"
      },
      "source": [
        ""
      ],
      "execution_count": 38,
      "outputs": []
    }
  ]
}