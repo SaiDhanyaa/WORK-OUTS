{
  "nbformat": 4,
  "nbformat_minor": 0,
  "metadata": {
    "colab": {
      "name": "REGULARISATION_METHODS.ipynb",
      "provenance": [],
      "collapsed_sections": [],
      "authorship_tag": "ABX9TyOe4SV9KZ/5FeWEID9f/rJz",
      "include_colab_link": true
    },
    "kernelspec": {
      "name": "python3",
      "display_name": "Python 3"
    },
    "language_info": {
      "name": "python"
    }
  },
  "cells": [
    {
      "cell_type": "markdown",
      "metadata": {
        "id": "view-in-github",
        "colab_type": "text"
      },
      "source": [
        "<a href=\"https://colab.research.google.com/github/SaiDhanyaa/WORK-OUTS/blob/main/REGULARISATION_METHODS.ipynb\" target=\"_parent\"><img src=\"https://colab.research.google.com/assets/colab-badge.svg\" alt=\"Open In Colab\"/></a>"
      ]
    },
    {
      "cell_type": "code",
      "metadata": {
        "id": "wVS8UIhKV1L3"
      },
      "source": [
        "import pandas as pd \n",
        "import numpy as np \n",
        "import matplotlib.pyplot as plt \n",
        "from sklearn import datasets \n",
        "from sklearn.model_selection import train_test_split \n",
        "from sklearn.linear_model import LinearRegression"
      ],
      "execution_count": null,
      "outputs": []
    },
    {
      "cell_type": "code",
      "metadata": {
        "id": "gyTS8SfcpCi5"
      },
      "source": [
        "# Loading pre-defined Boston Dataset\n",
        "boston_dataset = datasets.load_boston()\n",
        "#print(boston_dataset.DESCR)"
      ],
      "execution_count": null,
      "outputs": []
    },
    {
      "cell_type": "code",
      "metadata": {
        "id": "w8PbUGQcpClp"
      },
      "source": [
        "#Load the data and divide into X and Y varaiable\n",
        "boston_pd = pd.DataFrame(boston_dataset.data) \n",
        "boston_pd.columns = boston_dataset.feature_names \n",
        "boston_pd_target = np.asarray(boston_dataset.target) \n",
        "boston_pd['House Price'] = pd.Series(boston_pd_target) "
      ],
      "execution_count": null,
      "outputs": []
    },
    {
      "cell_type": "code",
      "metadata": {
        "id": "3a2rMjLapCpi"
      },
      "source": [
        "# input \n",
        "X = boston_pd.iloc[:, :-1] "
      ],
      "execution_count": null,
      "outputs": []
    },
    {
      "cell_type": "code",
      "metadata": {
        "id": "TXc_TQjmpCsR"
      },
      "source": [
        "#output \n",
        "Y = boston_pd.iloc[:, -1]"
      ],
      "execution_count": null,
      "outputs": []
    },
    {
      "cell_type": "code",
      "metadata": {
        "colab": {
          "base_uri": "https://localhost:8080/"
        },
        "id": "MaMuqQmYpCuk",
        "outputId": "b515cc7c-97ed-4787-97f3-f2b6e6d4cb4d"
      },
      "source": [
        "print(boston_pd.head()) "
      ],
      "execution_count": null,
      "outputs": [
        {
          "output_type": "stream",
          "name": "stdout",
          "text": [
            "      CRIM    ZN  INDUS  CHAS  ...  PTRATIO       B  LSTAT  House Price\n",
            "0  0.00632  18.0   2.31   0.0  ...     15.3  396.90   4.98         24.0\n",
            "1  0.02731   0.0   7.07   0.0  ...     17.8  396.90   9.14         21.6\n",
            "2  0.02729   0.0   7.07   0.0  ...     17.8  392.83   4.03         34.7\n",
            "3  0.03237   0.0   2.18   0.0  ...     18.7  394.63   2.94         33.4\n",
            "4  0.06905   0.0   2.18   0.0  ...     18.7  396.90   5.33         36.2\n",
            "\n",
            "[5 rows x 14 columns]\n"
          ]
        }
      ]
    },
    {
      "cell_type": "code",
      "metadata": {
        "colab": {
          "base_uri": "https://localhost:8080/",
          "height": 422
        },
        "id": "bVxWziUFx4P2",
        "outputId": "cf2ad9c7-bd29-4be0-d15a-9c367818c23f"
      },
      "source": [
        "X"
      ],
      "execution_count": null,
      "outputs": [
        {
          "output_type": "execute_result",
          "data": {
            "text/html": [
              "<div>\n",
              "<style scoped>\n",
              "    .dataframe tbody tr th:only-of-type {\n",
              "        vertical-align: middle;\n",
              "    }\n",
              "\n",
              "    .dataframe tbody tr th {\n",
              "        vertical-align: top;\n",
              "    }\n",
              "\n",
              "    .dataframe thead th {\n",
              "        text-align: right;\n",
              "    }\n",
              "</style>\n",
              "<table border=\"1\" class=\"dataframe\">\n",
              "  <thead>\n",
              "    <tr style=\"text-align: right;\">\n",
              "      <th></th>\n",
              "      <th>CRIM</th>\n",
              "      <th>ZN</th>\n",
              "      <th>INDUS</th>\n",
              "      <th>CHAS</th>\n",
              "      <th>NOX</th>\n",
              "      <th>RM</th>\n",
              "      <th>AGE</th>\n",
              "      <th>DIS</th>\n",
              "      <th>RAD</th>\n",
              "      <th>TAX</th>\n",
              "      <th>PTRATIO</th>\n",
              "      <th>B</th>\n",
              "      <th>LSTAT</th>\n",
              "    </tr>\n",
              "  </thead>\n",
              "  <tbody>\n",
              "    <tr>\n",
              "      <th>0</th>\n",
              "      <td>0.00632</td>\n",
              "      <td>18.0</td>\n",
              "      <td>2.31</td>\n",
              "      <td>0.0</td>\n",
              "      <td>0.538</td>\n",
              "      <td>6.575</td>\n",
              "      <td>65.2</td>\n",
              "      <td>4.0900</td>\n",
              "      <td>1.0</td>\n",
              "      <td>296.0</td>\n",
              "      <td>15.3</td>\n",
              "      <td>396.90</td>\n",
              "      <td>4.98</td>\n",
              "    </tr>\n",
              "    <tr>\n",
              "      <th>1</th>\n",
              "      <td>0.02731</td>\n",
              "      <td>0.0</td>\n",
              "      <td>7.07</td>\n",
              "      <td>0.0</td>\n",
              "      <td>0.469</td>\n",
              "      <td>6.421</td>\n",
              "      <td>78.9</td>\n",
              "      <td>4.9671</td>\n",
              "      <td>2.0</td>\n",
              "      <td>242.0</td>\n",
              "      <td>17.8</td>\n",
              "      <td>396.90</td>\n",
              "      <td>9.14</td>\n",
              "    </tr>\n",
              "    <tr>\n",
              "      <th>2</th>\n",
              "      <td>0.02729</td>\n",
              "      <td>0.0</td>\n",
              "      <td>7.07</td>\n",
              "      <td>0.0</td>\n",
              "      <td>0.469</td>\n",
              "      <td>7.185</td>\n",
              "      <td>61.1</td>\n",
              "      <td>4.9671</td>\n",
              "      <td>2.0</td>\n",
              "      <td>242.0</td>\n",
              "      <td>17.8</td>\n",
              "      <td>392.83</td>\n",
              "      <td>4.03</td>\n",
              "    </tr>\n",
              "    <tr>\n",
              "      <th>3</th>\n",
              "      <td>0.03237</td>\n",
              "      <td>0.0</td>\n",
              "      <td>2.18</td>\n",
              "      <td>0.0</td>\n",
              "      <td>0.458</td>\n",
              "      <td>6.998</td>\n",
              "      <td>45.8</td>\n",
              "      <td>6.0622</td>\n",
              "      <td>3.0</td>\n",
              "      <td>222.0</td>\n",
              "      <td>18.7</td>\n",
              "      <td>394.63</td>\n",
              "      <td>2.94</td>\n",
              "    </tr>\n",
              "    <tr>\n",
              "      <th>4</th>\n",
              "      <td>0.06905</td>\n",
              "      <td>0.0</td>\n",
              "      <td>2.18</td>\n",
              "      <td>0.0</td>\n",
              "      <td>0.458</td>\n",
              "      <td>7.147</td>\n",
              "      <td>54.2</td>\n",
              "      <td>6.0622</td>\n",
              "      <td>3.0</td>\n",
              "      <td>222.0</td>\n",
              "      <td>18.7</td>\n",
              "      <td>396.90</td>\n",
              "      <td>5.33</td>\n",
              "    </tr>\n",
              "    <tr>\n",
              "      <th>...</th>\n",
              "      <td>...</td>\n",
              "      <td>...</td>\n",
              "      <td>...</td>\n",
              "      <td>...</td>\n",
              "      <td>...</td>\n",
              "      <td>...</td>\n",
              "      <td>...</td>\n",
              "      <td>...</td>\n",
              "      <td>...</td>\n",
              "      <td>...</td>\n",
              "      <td>...</td>\n",
              "      <td>...</td>\n",
              "      <td>...</td>\n",
              "    </tr>\n",
              "    <tr>\n",
              "      <th>501</th>\n",
              "      <td>0.06263</td>\n",
              "      <td>0.0</td>\n",
              "      <td>11.93</td>\n",
              "      <td>0.0</td>\n",
              "      <td>0.573</td>\n",
              "      <td>6.593</td>\n",
              "      <td>69.1</td>\n",
              "      <td>2.4786</td>\n",
              "      <td>1.0</td>\n",
              "      <td>273.0</td>\n",
              "      <td>21.0</td>\n",
              "      <td>391.99</td>\n",
              "      <td>9.67</td>\n",
              "    </tr>\n",
              "    <tr>\n",
              "      <th>502</th>\n",
              "      <td>0.04527</td>\n",
              "      <td>0.0</td>\n",
              "      <td>11.93</td>\n",
              "      <td>0.0</td>\n",
              "      <td>0.573</td>\n",
              "      <td>6.120</td>\n",
              "      <td>76.7</td>\n",
              "      <td>2.2875</td>\n",
              "      <td>1.0</td>\n",
              "      <td>273.0</td>\n",
              "      <td>21.0</td>\n",
              "      <td>396.90</td>\n",
              "      <td>9.08</td>\n",
              "    </tr>\n",
              "    <tr>\n",
              "      <th>503</th>\n",
              "      <td>0.06076</td>\n",
              "      <td>0.0</td>\n",
              "      <td>11.93</td>\n",
              "      <td>0.0</td>\n",
              "      <td>0.573</td>\n",
              "      <td>6.976</td>\n",
              "      <td>91.0</td>\n",
              "      <td>2.1675</td>\n",
              "      <td>1.0</td>\n",
              "      <td>273.0</td>\n",
              "      <td>21.0</td>\n",
              "      <td>396.90</td>\n",
              "      <td>5.64</td>\n",
              "    </tr>\n",
              "    <tr>\n",
              "      <th>504</th>\n",
              "      <td>0.10959</td>\n",
              "      <td>0.0</td>\n",
              "      <td>11.93</td>\n",
              "      <td>0.0</td>\n",
              "      <td>0.573</td>\n",
              "      <td>6.794</td>\n",
              "      <td>89.3</td>\n",
              "      <td>2.3889</td>\n",
              "      <td>1.0</td>\n",
              "      <td>273.0</td>\n",
              "      <td>21.0</td>\n",
              "      <td>393.45</td>\n",
              "      <td>6.48</td>\n",
              "    </tr>\n",
              "    <tr>\n",
              "      <th>505</th>\n",
              "      <td>0.04741</td>\n",
              "      <td>0.0</td>\n",
              "      <td>11.93</td>\n",
              "      <td>0.0</td>\n",
              "      <td>0.573</td>\n",
              "      <td>6.030</td>\n",
              "      <td>80.8</td>\n",
              "      <td>2.5050</td>\n",
              "      <td>1.0</td>\n",
              "      <td>273.0</td>\n",
              "      <td>21.0</td>\n",
              "      <td>396.90</td>\n",
              "      <td>7.88</td>\n",
              "    </tr>\n",
              "  </tbody>\n",
              "</table>\n",
              "<p>506 rows × 13 columns</p>\n",
              "</div>"
            ],
            "text/plain": [
              "        CRIM    ZN  INDUS  CHAS    NOX  ...  RAD    TAX  PTRATIO       B  LSTAT\n",
              "0    0.00632  18.0   2.31   0.0  0.538  ...  1.0  296.0     15.3  396.90   4.98\n",
              "1    0.02731   0.0   7.07   0.0  0.469  ...  2.0  242.0     17.8  396.90   9.14\n",
              "2    0.02729   0.0   7.07   0.0  0.469  ...  2.0  242.0     17.8  392.83   4.03\n",
              "3    0.03237   0.0   2.18   0.0  0.458  ...  3.0  222.0     18.7  394.63   2.94\n",
              "4    0.06905   0.0   2.18   0.0  0.458  ...  3.0  222.0     18.7  396.90   5.33\n",
              "..       ...   ...    ...   ...    ...  ...  ...    ...      ...     ...    ...\n",
              "501  0.06263   0.0  11.93   0.0  0.573  ...  1.0  273.0     21.0  391.99   9.67\n",
              "502  0.04527   0.0  11.93   0.0  0.573  ...  1.0  273.0     21.0  396.90   9.08\n",
              "503  0.06076   0.0  11.93   0.0  0.573  ...  1.0  273.0     21.0  396.90   5.64\n",
              "504  0.10959   0.0  11.93   0.0  0.573  ...  1.0  273.0     21.0  393.45   6.48\n",
              "505  0.04741   0.0  11.93   0.0  0.573  ...  1.0  273.0     21.0  396.90   7.88\n",
              "\n",
              "[506 rows x 13 columns]"
            ]
          },
          "metadata": {},
          "execution_count": 58
        }
      ]
    },
    {
      "cell_type": "code",
      "metadata": {
        "colab": {
          "base_uri": "https://localhost:8080/"
        },
        "id": "az0AQDbOx4TM",
        "outputId": "837da794-cc3a-4377-e50b-d1ad854b85a1"
      },
      "source": [
        "x_train, x_test, y_train, y_test = train_test_split(X,Y,test_size=0.25)\n",
        "\n",
        "(x_train.shape, y_train.shape,x_test.shape, y_test.shape)\n"
      ],
      "execution_count": null,
      "outputs": [
        {
          "output_type": "execute_result",
          "data": {
            "text/plain": [
              "((379, 13), (379,), (127, 13), (127,))"
            ]
          },
          "metadata": {},
          "execution_count": 59
        }
      ]
    },
    {
      "cell_type": "code",
      "metadata": {
        "colab": {
          "base_uri": "https://localhost:8080/"
        },
        "id": "UVT6MPHQx4WF",
        "outputId": "1aaa5bac-0561-4964-d390-1b2d0fc26f72"
      },
      "source": [
        "# Apply multiple Linear Regression Model \n",
        "lreg = LinearRegression() \n",
        "lreg.fit(x_train, y_train) "
      ],
      "execution_count": null,
      "outputs": [
        {
          "output_type": "execute_result",
          "data": {
            "text/plain": [
              "LinearRegression(copy_X=True, fit_intercept=True, n_jobs=None, normalize=False)"
            ]
          },
          "metadata": {},
          "execution_count": 60
        }
      ]
    },
    {
      "cell_type": "code",
      "metadata": {
        "id": "NG4_04n6x4Yr"
      },
      "source": [
        "# Generate Prediction on test set \n",
        "lreg_y_pred = lreg.predict(x_test) "
      ],
      "execution_count": null,
      "outputs": []
    },
    {
      "cell_type": "code",
      "metadata": {
        "colab": {
          "base_uri": "https://localhost:8080/"
        },
        "id": "tMGDvhYUx4dX",
        "outputId": "6e25533b-5446-4e4c-b1b4-6a895e2528b9"
      },
      "source": [
        "# calculating Mean Squared Error (mse) \n",
        "mean_squared_error = np.mean((lreg_y_pred - y_test)**2) \n",
        "print(\"Mean squared Error on test set : \", mean_squared_error) \n",
        "\n",
        "\n"
      ],
      "execution_count": null,
      "outputs": [
        {
          "output_type": "stream",
          "name": "stdout",
          "text": [
            "Mean squared Error on test set :  22.052308908065353\n"
          ]
        }
      ]
    },
    {
      "cell_type": "code",
      "metadata": {
        "colab": {
          "base_uri": "https://localhost:8080/"
        },
        "id": "VN4-aR4ox4gg",
        "outputId": "415d89b8-0b0e-46ff-ef47-e5a8a5a96b6a"
      },
      "source": [
        "# Putting together the coefficient and their corrsponding variable names \n",
        "lreg_coefficient = pd.DataFrame() \n",
        "lreg_coefficient[\"Columns\"] = x_train.columns \n",
        "lreg_coefficient['Coefficient Estimate'] = pd.Series(lreg.coef_) \n",
        "print(lreg_coefficient) "
      ],
      "execution_count": null,
      "outputs": [
        {
          "output_type": "stream",
          "name": "stdout",
          "text": [
            "    Columns  Coefficient Estimate\n",
            "0      CRIM             -0.112804\n",
            "1        ZN              0.047251\n",
            "2     INDUS              0.038577\n",
            "3      CHAS              3.357129\n",
            "4       NOX            -18.364158\n",
            "5        RM              3.799200\n",
            "6       AGE             -0.011336\n",
            "7       DIS             -1.558506\n",
            "8       RAD              0.346955\n",
            "9       TAX             -0.014678\n",
            "10  PTRATIO             -0.988083\n",
            "11        B              0.009644\n",
            "12    LSTAT             -0.468772\n"
          ]
        }
      ]
    },
    {
      "cell_type": "code",
      "metadata": {
        "id": "1c7Kvu8ZzkX2"
      },
      "source": [
        "##VISUALISATION"
      ],
      "execution_count": null,
      "outputs": []
    },
    {
      "cell_type": "code",
      "metadata": {
        "colab": {
          "base_uri": "https://localhost:8080/",
          "height": 296
        },
        "id": "aKq0889Gx4in",
        "outputId": "b0ce7ee6-75d3-4c08-ae93-b8ad1b1adc34"
      },
      "source": [
        "import seaborn as sns\n",
        "\n",
        "sns.barplot(x='Coefficient Estimate' , y='Columns', data=lreg_coefficient)"
      ],
      "execution_count": null,
      "outputs": [
        {
          "output_type": "execute_result",
          "data": {
            "text/plain": [
              "<matplotlib.axes._subplots.AxesSubplot at 0x7f1ecb59cd50>"
            ]
          },
          "metadata": {},
          "execution_count": 65
        },
        {
          "output_type": "display_data",
          "data": {
            "image/png": "[encoded data removed]",
            "text/plain": [
              "<Figure size 432x288 with 1 Axes>"
            ]
          },
          "metadata": {
            "needs_background": "light"
          }
        }
      ]
    },
    {
      "cell_type": "markdown",
      "metadata": {
        "id": "ImTsKCEsymq1"
      },
      "source": [
        "# **import ridge regression from sklearn library**"
      ]
    },
    {
      "cell_type": "code",
      "metadata": {
        "colab": {
          "base_uri": "https://localhost:8080/"
        },
        "id": "YpCtfCz5yaiL",
        "outputId": "fd2b1a72-fee9-4592-f7f9-205351b2ec49"
      },
      "source": [
        "# import ridge regression from sklearn library \n",
        "from sklearn.linear_model import Ridge \n",
        "\n",
        "# Train the model \n",
        "ridgeR = Ridge(alpha = 1) \n",
        "ridgeR.fit(x_train, y_train) \n",
        "y_pred = ridgeR.predict(x_test) \n",
        "\n",
        "# calculate mean square error \n",
        "mean_squared_error_ridge = np.mean((y_pred - y_test)**2) \n",
        "print(mean_squared_error_ridge) \n",
        "\n",
        "# get ridge coefficient and print them \n",
        "ridge_coefficient = pd.DataFrame() \n",
        "ridge_coefficient[\"Columns\"]= x_train.columns \n",
        "ridge_coefficient['Coefficient Estimate'] = pd.Series(ridgeR.coef_) \n",
        "print(ridge_coefficient) \n",
        "\n"
      ],
      "execution_count": null,
      "outputs": [
        {
          "output_type": "stream",
          "name": "stdout",
          "text": [
            "22.02740391529609\n",
            "    Columns  Coefficient Estimate\n",
            "0      CRIM             -0.108434\n",
            "1        ZN              0.048238\n",
            "2     INDUS              0.000468\n",
            "3      CHAS              3.093794\n",
            "4       NOX            -10.125369\n",
            "5        RM              3.865487\n",
            "6       AGE             -0.018941\n",
            "7       DIS             -1.434221\n",
            "8       RAD              0.325858\n",
            "9       TAX             -0.015152\n",
            "10  PTRATIO             -0.885161\n",
            "11        B              0.010112\n",
            "12    LSTAT             -0.476930\n"
          ]
        }
      ]
    },
    {
      "cell_type": "code",
      "metadata": {
        "id": "xbO_ChDxzp0G"
      },
      "source": [
        "##VISUALISATION"
      ],
      "execution_count": null,
      "outputs": []
    },
    {
      "cell_type": "code",
      "metadata": {
        "colab": {
          "base_uri": "https://localhost:8080/",
          "height": 296
        },
        "id": "4K6S4ptjzp0I",
        "outputId": "adbaea05-3aa7-44f0-8182-03831c128119"
      },
      "source": [
        "import seaborn as sns\n",
        "\n",
        "sns.barplot(x='Coefficient Estimate' , y='Columns', data=ridge_coefficient)"
      ],
      "execution_count": null,
      "outputs": [
        {
          "output_type": "execute_result",
          "data": {
            "text/plain": [
              "<matplotlib.axes._subplots.AxesSubplot at 0x7f1ecb545050>"
            ]
          },
          "metadata": {},
          "execution_count": 68
        },
        {
          "output_type": "display_data",
          "data": {
            "image/png": "[encoded data removed]",
            "text/plain": [
              "<Figure size 432x288 with 1 Axes>"
            ]
          },
          "metadata": {
            "needs_background": "light"
          }
        }
      ]
    },
    {
      "cell_type": "markdown",
      "metadata": {
        "id": "Q_BIEAEHyvHs"
      },
      "source": [
        "## **import Lasso regression from sklearn library**"
      ]
    },
    {
      "cell_type": "code",
      "metadata": {
        "colab": {
          "base_uri": "https://localhost:8080/"
        },
        "id": "V6a0kCqOyafk",
        "outputId": "1d38a918-f1d3-4231-db89-d63cd222a597"
      },
      "source": [
        "# import Lasso regression from sklearn library \n",
        "\n",
        "from sklearn.linear_model import Lasso \n",
        "\n",
        "# Train the model \n",
        "lasso = Lasso(alpha = 1) #### CHECK FOR ALPHA= 0.9,0.5 AND CORRESPONDING MSE TO GET REDUCED ERROR)\n",
        "lasso.fit(x_train, y_train) \n",
        "y_pred1 = lasso.predict(x_test) \n",
        "\n",
        "# Calculate Mean Squared Error \n",
        "mean_squared_error = np.mean((y_pred1 - y_test)**2) \n",
        "print(\"Mean squared error on test set\", mean_squared_error) \n",
        "lasso_coeff = pd.DataFrame() \n",
        "lasso_coeff[\"Columns\"] = x_train.columns \n",
        "lasso_coeff['Coefficient Estimate'] = pd.Series(lasso.coef_) \n",
        "\n",
        "print(lasso_coeff) "
      ],
      "execution_count": null,
      "outputs": [
        {
          "output_type": "stream",
          "name": "stdout",
          "text": [
            "Mean squared error on test set 25.066750030572408\n",
            "    Columns  Coefficient Estimate\n",
            "0      CRIM             -0.068256\n",
            "1        ZN              0.042969\n",
            "2     INDUS             -0.000000\n",
            "3      CHAS              0.000000\n",
            "4       NOX             -0.000000\n",
            "5        RM              1.230561\n",
            "6       AGE              0.008474\n",
            "7       DIS             -0.644247\n",
            "8       RAD              0.251746\n",
            "9       TAX             -0.014690\n",
            "10  PTRATIO             -0.676704\n",
            "11        B              0.008848\n",
            "12    LSTAT             -0.697438\n"
          ]
        }
      ]
    },
    {
      "cell_type": "code",
      "metadata": {
        "id": "Yr7waRfnzrj6"
      },
      "source": [
        "##VISUALISATION"
      ],
      "execution_count": null,
      "outputs": []
    },
    {
      "cell_type": "code",
      "metadata": {
        "colab": {
          "base_uri": "https://localhost:8080/",
          "height": 296
        },
        "id": "3kgrVmu4zrj7",
        "outputId": "06786b98-65b5-4255-9d34-ce35adf5ae8a"
      },
      "source": [
        "import seaborn as sns\n",
        "\n",
        "sns.barplot(x='Coefficient Estimate' , y='Columns', data=lasso_coeff)"
      ],
      "execution_count": null,
      "outputs": [
        {
          "output_type": "execute_result",
          "data": {
            "text/plain": [
              "<matplotlib.axes._subplots.AxesSubplot at 0x7f1ecb483f90>"
            ]
          },
          "metadata": {},
          "execution_count": 71
        },
        {
          "output_type": "display_data",
          "data": {
            "image/png": "[encoded data removed]",
            "text/plain": [
              "<Figure size 432x288 with 1 Axes>"
            ]
          },
          "metadata": {
            "needs_background": "light"
          }
        }
      ]
    },
    {
      "cell_type": "markdown",
      "metadata": {
        "id": "8XIufL-Gy350"
      },
      "source": [
        "# **import ELASTIC NET model**"
      ]
    },
    {
      "cell_type": "code",
      "metadata": {
        "colab": {
          "base_uri": "https://localhost:8080/",
          "height": 473
        },
        "id": "xmtaVV2PyamV",
        "outputId": "e868d843-8ca5-4ec6-ed66-1dd234b0a6a6"
      },
      "source": [
        "# import model \n",
        "from sklearn.linear_model import ElasticNet \n",
        "\n",
        "# Train the model \n",
        "e_net = ElasticNet(alpha = .4,l1_ratio=.5)  #### (ALPHA IS CONTROLLING FACTOR, AND L1_RATION IS THE R VALUE WHICH GIVES HOW MUCH CONTRIBUTION THE LASSO AND RIDGE GIVES.)\n",
        "e_net.fit(x_train, y_train) \n",
        "\n",
        "# calculate the prediction and mean square error \n",
        "y_pred_elastic = e_net.predict(x_test) \n",
        "mean_squared_error = np.mean((y_pred_elastic - y_test)**2) \n",
        "print(\"Mean Squared Error on test set\", mean_squared_error) \n",
        "\n",
        "e_net_coeff = pd.DataFrame() \n",
        "e_net_coeff[\"Columns\"] = x_train.columns \n",
        "e_net_coeff['Coefficient Estimate'] = pd.Series(e_net.coef_) \n",
        "e_net_coeff "
      ],
      "execution_count": null,
      "outputs": [
        {
          "output_type": "stream",
          "name": "stdout",
          "text": [
            "Mean Squared Error on test set 22.907845248504987\n"
          ]
        },
        {
          "output_type": "execute_result",
          "data": {
            "text/html": [
              "<div>\n",
              "<style scoped>\n",
              "    .dataframe tbody tr th:only-of-type {\n",
              "        vertical-align: middle;\n",
              "    }\n",
              "\n",
              "    .dataframe tbody tr th {\n",
              "        vertical-align: top;\n",
              "    }\n",
              "\n",
              "    .dataframe thead th {\n",
              "        text-align: right;\n",
              "    }\n",
              "</style>\n",
              "<table border=\"1\" class=\"dataframe\">\n",
              "  <thead>\n",
              "    <tr style=\"text-align: right;\">\n",
              "      <th></th>\n",
              "      <th>Columns</th>\n",
              "      <th>Coefficient Estimate</th>\n",
              "    </tr>\n",
              "  </thead>\n",
              "  <tbody>\n",
              "    <tr>\n",
              "      <th>0</th>\n",
              "      <td>CRIM</td>\n",
              "      <td>-0.095764</td>\n",
              "    </tr>\n",
              "    <tr>\n",
              "      <th>1</th>\n",
              "      <td>ZN</td>\n",
              "      <td>0.051926</td>\n",
              "    </tr>\n",
              "    <tr>\n",
              "      <th>2</th>\n",
              "      <td>INDUS</td>\n",
              "      <td>-0.012754</td>\n",
              "    </tr>\n",
              "    <tr>\n",
              "      <th>3</th>\n",
              "      <td>CHAS</td>\n",
              "      <td>0.000000</td>\n",
              "    </tr>\n",
              "    <tr>\n",
              "      <th>4</th>\n",
              "      <td>NOX</td>\n",
              "      <td>-0.000000</td>\n",
              "    </tr>\n",
              "    <tr>\n",
              "      <th>5</th>\n",
              "      <td>RM</td>\n",
              "      <td>2.130509</td>\n",
              "    </tr>\n",
              "    <tr>\n",
              "      <th>6</th>\n",
              "      <td>AGE</td>\n",
              "      <td>-0.006130</td>\n",
              "    </tr>\n",
              "    <tr>\n",
              "      <th>7</th>\n",
              "      <td>DIS</td>\n",
              "      <td>-1.050144</td>\n",
              "    </tr>\n",
              "    <tr>\n",
              "      <th>8</th>\n",
              "      <td>RAD</td>\n",
              "      <td>0.325354</td>\n",
              "    </tr>\n",
              "    <tr>\n",
              "      <th>9</th>\n",
              "      <td>TAX</td>\n",
              "      <td>-0.017383</td>\n",
              "    </tr>\n",
              "    <tr>\n",
              "      <th>10</th>\n",
              "      <td>PTRATIO</td>\n",
              "      <td>-0.791123</td>\n",
              "    </tr>\n",
              "    <tr>\n",
              "      <th>11</th>\n",
              "      <td>B</td>\n",
              "      <td>0.009758</td>\n",
              "    </tr>\n",
              "    <tr>\n",
              "      <th>12</th>\n",
              "      <td>LSTAT</td>\n",
              "      <td>-0.636122</td>\n",
              "    </tr>\n",
              "  </tbody>\n",
              "</table>\n",
              "</div>"
            ],
            "text/plain": [
              "    Columns  Coefficient Estimate\n",
              "0      CRIM             -0.095764\n",
              "1        ZN              0.051926\n",
              "2     INDUS             -0.012754\n",
              "3      CHAS              0.000000\n",
              "4       NOX             -0.000000\n",
              "5        RM              2.130509\n",
              "6       AGE             -0.006130\n",
              "7       DIS             -1.050144\n",
              "8       RAD              0.325354\n",
              "9       TAX             -0.017383\n",
              "10  PTRATIO             -0.791123\n",
              "11        B              0.009758\n",
              "12    LSTAT             -0.636122"
            ]
          },
          "metadata": {},
          "execution_count": 72
        }
      ]
    },
    {
      "cell_type": "code",
      "metadata": {
        "id": "80q6xY3-ztV5"
      },
      "source": [
        "##VISUALISATION"
      ],
      "execution_count": null,
      "outputs": []
    },
    {
      "cell_type": "code",
      "metadata": {
        "colab": {
          "base_uri": "https://localhost:8080/",
          "height": 296
        },
        "id": "sSM45TQKztV9",
        "outputId": "e8f77110-0f21-4ae5-ff25-5006b94a5840"
      },
      "source": [
        "import seaborn as sns\n",
        "\n",
        "sns.barplot(x='Coefficient Estimate' , y='Columns', data=e_net_coeff)"
      ],
      "execution_count": null,
      "outputs": [
        {
          "output_type": "execute_result",
          "data": {
            "text/plain": [
              "<matplotlib.axes._subplots.AxesSubplot at 0x7f1ecb361e90>"
            ]
          },
          "metadata": {},
          "execution_count": 74
        },
        {
          "output_type": "display_data",
          "data": {
            "image/png": "[encoded data removed]",
            "text/plain": [
              "<Figure size 432x288 with 1 Axes>"
            ]
          },
          "metadata": {
            "needs_background": "light"
          }
        }
      ]
    },
    {
      "cell_type": "code",
      "metadata": {
        "id": "5UUYLq2Oyarb"
      },
      "source": [
        ""
      ],
      "execution_count": null,
      "outputs": []
    }
  ]
}