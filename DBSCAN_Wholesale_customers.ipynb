{
  "nbformat": 4,
  "nbformat_minor": 0,
  "metadata": {
    "colab": {
      "name": "DBSCAN_Wholesale_customers.ipynb",
      "provenance": [],
      "collapsed_sections": [],
      "authorship_tag": "ABX9TyPhDuBOU6MnuKFJKf4oPXCV",
      "include_colab_link": true
    },
    "kernelspec": {
      "name": "python3",
      "display_name": "Python 3"
    },
    "language_info": {
      "name": "python"
    }
  },
  "cells": [
    {
      "cell_type": "markdown",
      "metadata": {
        "id": "view-in-github",
        "colab_type": "text"
      },
      "source": [
        "<a href=\"https://colab.research.google.com/github/SaiDhanyaa/WORK-OUTS/blob/main/DBSCAN_Wholesale_customers.ipynb\" target=\"_parent\"><img src=\"https://colab.research.google.com/assets/colab-badge.svg\" alt=\"Open In Colab\"/></a>"
      ]
    },
    {
      "cell_type": "code",
      "metadata": {
        "id": "_dgzV2Lu0AuE"
      },
      "source": [
        "#Import the libraries\n",
        "from sklearn.cluster import DBSCAN\n",
        "from sklearn.preprocessing import StandardScaler\n",
        "import numpy as np\n",
        "import pandas as pd\n",
        "import matplotlib.pyplot as plt"
      ],
      "execution_count": 14,
      "outputs": []
    },
    {
      "cell_type": "code",
      "metadata": {
        "id": "55n6e_tWz1N_"
      },
      "source": [
        "# Import .csv file and convert it to a DataFrame object\n",
        "wc=pd.read_csv('/content/Wholesale customers data.csv')"
      ],
      "execution_count": 15,
      "outputs": []
    },
    {
      "cell_type": "code",
      "metadata": {
        "colab": {
          "base_uri": "https://localhost:8080/",
          "height": 204
        },
        "id": "OgjIzGpS0AwU",
        "outputId": "cd8800ec-2907-47b1-ad72-b75609826c4a"
      },
      "source": [
        "wc.head()"
      ],
      "execution_count": 16,
      "outputs": [
        {
          "output_type": "execute_result",
          "data": {
            "text/html": [
              "<div>\n",
              "<style scoped>\n",
              "    .dataframe tbody tr th:only-of-type {\n",
              "        vertical-align: middle;\n",
              "    }\n",
              "\n",
              "    .dataframe tbody tr th {\n",
              "        vertical-align: top;\n",
              "    }\n",
              "\n",
              "    .dataframe thead th {\n",
              "        text-align: right;\n",
              "    }\n",
              "</style>\n",
              "<table border=\"1\" class=\"dataframe\">\n",
              "  <thead>\n",
              "    <tr style=\"text-align: right;\">\n",
              "      <th></th>\n",
              "      <th>Channel</th>\n",
              "      <th>Region</th>\n",
              "      <th>Fresh</th>\n",
              "      <th>Milk</th>\n",
              "      <th>Grocery</th>\n",
              "      <th>Frozen</th>\n",
              "      <th>Detergents_Paper</th>\n",
              "      <th>Delicassen</th>\n",
              "    </tr>\n",
              "  </thead>\n",
              "  <tbody>\n",
              "    <tr>\n",
              "      <th>0</th>\n",
              "      <td>2</td>\n",
              "      <td>3</td>\n",
              "      <td>12669</td>\n",
              "      <td>9656</td>\n",
              "      <td>7561</td>\n",
              "      <td>214</td>\n",
              "      <td>2674</td>\n",
              "      <td>1338</td>\n",
              "    </tr>\n",
              "    <tr>\n",
              "      <th>1</th>\n",
              "      <td>2</td>\n",
              "      <td>3</td>\n",
              "      <td>7057</td>\n",
              "      <td>9810</td>\n",
              "      <td>9568</td>\n",
              "      <td>1762</td>\n",
              "      <td>3293</td>\n",
              "      <td>1776</td>\n",
              "    </tr>\n",
              "    <tr>\n",
              "      <th>2</th>\n",
              "      <td>2</td>\n",
              "      <td>3</td>\n",
              "      <td>6353</td>\n",
              "      <td>8808</td>\n",
              "      <td>7684</td>\n",
              "      <td>2405</td>\n",
              "      <td>3516</td>\n",
              "      <td>7844</td>\n",
              "    </tr>\n",
              "    <tr>\n",
              "      <th>3</th>\n",
              "      <td>1</td>\n",
              "      <td>3</td>\n",
              "      <td>13265</td>\n",
              "      <td>1196</td>\n",
              "      <td>4221</td>\n",
              "      <td>6404</td>\n",
              "      <td>507</td>\n",
              "      <td>1788</td>\n",
              "    </tr>\n",
              "    <tr>\n",
              "      <th>4</th>\n",
              "      <td>2</td>\n",
              "      <td>3</td>\n",
              "      <td>22615</td>\n",
              "      <td>5410</td>\n",
              "      <td>7198</td>\n",
              "      <td>3915</td>\n",
              "      <td>1777</td>\n",
              "      <td>5185</td>\n",
              "    </tr>\n",
              "  </tbody>\n",
              "</table>\n",
              "</div>"
            ],
            "text/plain": [
              "   Channel  Region  Fresh  Milk  Grocery  Frozen  Detergents_Paper  Delicassen\n",
              "0        2       3  12669  9656     7561     214              2674        1338\n",
              "1        2       3   7057  9810     9568    1762              3293        1776\n",
              "2        2       3   6353  8808     7684    2405              3516        7844\n",
              "3        1       3  13265  1196     4221    6404               507        1788\n",
              "4        2       3  22615  5410     7198    3915              1777        5185"
            ]
          },
          "metadata": {},
          "execution_count": 16
        }
      ]
    },
    {
      "cell_type": "code",
      "metadata": {
        "colab": {
          "base_uri": "https://localhost:8080/"
        },
        "id": "ajh4PGSi0Ay6",
        "outputId": "f75c1131-e7a8-467f-ebab-67e5f578de96"
      },
      "source": [
        "wc.info()"
      ],
      "execution_count": 17,
      "outputs": [
        {
          "output_type": "stream",
          "name": "stdout",
          "text": [
            "<class 'pandas.core.frame.DataFrame'>\n",
            "RangeIndex: 440 entries, 0 to 439\n",
            "Data columns (total 8 columns):\n",
            " #   Column            Non-Null Count  Dtype\n",
            "---  ------            --------------  -----\n",
            " 0   Channel           440 non-null    int64\n",
            " 1   Region            440 non-null    int64\n",
            " 2   Fresh             440 non-null    int64\n",
            " 3   Milk              440 non-null    int64\n",
            " 4   Grocery           440 non-null    int64\n",
            " 5   Frozen            440 non-null    int64\n",
            " 6   Detergents_Paper  440 non-null    int64\n",
            " 7   Delicassen        440 non-null    int64\n",
            "dtypes: int64(8)\n",
            "memory usage: 27.6 KB\n"
          ]
        }
      ]
    },
    {
      "cell_type": "code",
      "metadata": {
        "id": "QlVfbpdC0A1E"
      },
      "source": [
        "wc.drop(['Channel','Region'],axis=1,inplace=True)"
      ],
      "execution_count": 18,
      "outputs": []
    },
    {
      "cell_type": "code",
      "metadata": {
        "colab": {
          "base_uri": "https://localhost:8080/",
          "height": 204
        },
        "id": "bDCMeOBd2Jdw",
        "outputId": "f9fa7936-19bf-45c0-af7c-76f892658768"
      },
      "source": [
        "wc.head()"
      ],
      "execution_count": 24,
      "outputs": [
        {
          "output_type": "execute_result",
          "data": {
            "text/html": [
              "<div>\n",
              "<style scoped>\n",
              "    .dataframe tbody tr th:only-of-type {\n",
              "        vertical-align: middle;\n",
              "    }\n",
              "\n",
              "    .dataframe tbody tr th {\n",
              "        vertical-align: top;\n",
              "    }\n",
              "\n",
              "    .dataframe thead th {\n",
              "        text-align: right;\n",
              "    }\n",
              "</style>\n",
              "<table border=\"1\" class=\"dataframe\">\n",
              "  <thead>\n",
              "    <tr style=\"text-align: right;\">\n",
              "      <th></th>\n",
              "      <th>Fresh</th>\n",
              "      <th>Milk</th>\n",
              "      <th>Grocery</th>\n",
              "      <th>Frozen</th>\n",
              "      <th>Detergents_Paper</th>\n",
              "      <th>Delicassen</th>\n",
              "    </tr>\n",
              "  </thead>\n",
              "  <tbody>\n",
              "    <tr>\n",
              "      <th>0</th>\n",
              "      <td>12669</td>\n",
              "      <td>9656</td>\n",
              "      <td>7561</td>\n",
              "      <td>214</td>\n",
              "      <td>2674</td>\n",
              "      <td>1338</td>\n",
              "    </tr>\n",
              "    <tr>\n",
              "      <th>1</th>\n",
              "      <td>7057</td>\n",
              "      <td>9810</td>\n",
              "      <td>9568</td>\n",
              "      <td>1762</td>\n",
              "      <td>3293</td>\n",
              "      <td>1776</td>\n",
              "    </tr>\n",
              "    <tr>\n",
              "      <th>2</th>\n",
              "      <td>6353</td>\n",
              "      <td>8808</td>\n",
              "      <td>7684</td>\n",
              "      <td>2405</td>\n",
              "      <td>3516</td>\n",
              "      <td>7844</td>\n",
              "    </tr>\n",
              "    <tr>\n",
              "      <th>3</th>\n",
              "      <td>13265</td>\n",
              "      <td>1196</td>\n",
              "      <td>4221</td>\n",
              "      <td>6404</td>\n",
              "      <td>507</td>\n",
              "      <td>1788</td>\n",
              "    </tr>\n",
              "    <tr>\n",
              "      <th>4</th>\n",
              "      <td>22615</td>\n",
              "      <td>5410</td>\n",
              "      <td>7198</td>\n",
              "      <td>3915</td>\n",
              "      <td>1777</td>\n",
              "      <td>5185</td>\n",
              "    </tr>\n",
              "  </tbody>\n",
              "</table>\n",
              "</div>"
            ],
            "text/plain": [
              "   Fresh  Milk  Grocery  Frozen  Detergents_Paper  Delicassen\n",
              "0  12669  9656     7561     214              2674        1338\n",
              "1   7057  9810     9568    1762              3293        1776\n",
              "2   6353  8808     7684    2405              3516        7844\n",
              "3  13265  1196     4221    6404               507        1788\n",
              "4  22615  5410     7198    3915              1777        5185"
            ]
          },
          "metadata": {},
          "execution_count": 24
        }
      ]
    },
    {
      "cell_type": "code",
      "metadata": {
        "colab": {
          "base_uri": "https://localhost:8080/"
        },
        "id": "Hzh64IKV1JfS",
        "outputId": "f477a4c8-4da4-47ec-860d-115aec7013f3"
      },
      "source": [
        "wc.values"
      ],
      "execution_count": 19,
      "outputs": [
        {
          "output_type": "execute_result",
          "data": {
            "text/plain": [
              "array([[12669,  9656,  7561,   214,  2674,  1338],\n",
              "       [ 7057,  9810,  9568,  1762,  3293,  1776],\n",
              "       [ 6353,  8808,  7684,  2405,  3516,  7844],\n",
              "       ...,\n",
              "       [14531, 15488, 30243,   437, 14841,  1867],\n",
              "       [10290,  1981,  2232,  1038,   168,  2125],\n",
              "       [ 2787,  1698,  2510,    65,   477,    52]])"
            ]
          },
          "metadata": {},
          "execution_count": 19
        }
      ]
    },
    {
      "cell_type": "code",
      "metadata": {
        "colab": {
          "base_uri": "https://localhost:8080/"
        },
        "id": "DMmeYrpi1Jh1",
        "outputId": "28705354-5458-4852-fae6-52fa68e8eb1d"
      },
      "source": [
        "array=wc.values\n",
        "array"
      ],
      "execution_count": 20,
      "outputs": [
        {
          "output_type": "execute_result",
          "data": {
            "text/plain": [
              "array([[12669,  9656,  7561,   214,  2674,  1338],\n",
              "       [ 7057,  9810,  9568,  1762,  3293,  1776],\n",
              "       [ 6353,  8808,  7684,  2405,  3516,  7844],\n",
              "       ...,\n",
              "       [14531, 15488, 30243,   437, 14841,  1867],\n",
              "       [10290,  1981,  2232,  1038,   168,  2125],\n",
              "       [ 2787,  1698,  2510,    65,   477,    52]])"
            ]
          },
          "metadata": {},
          "execution_count": 20
        }
      ]
    },
    {
      "cell_type": "code",
      "metadata": {
        "colab": {
          "base_uri": "https://localhost:8080/"
        },
        "id": "CSvMHwYd1Jlh",
        "outputId": "aa294c44-cd81-4c9b-ceba-a0df348b342a"
      },
      "source": [
        "scaled=StandardScaler().fit_transform(array)\n",
        "scaled"
      ],
      "execution_count": 21,
      "outputs": [
        {
          "output_type": "execute_result",
          "data": {
            "text/plain": [
              "array([[ 0.05293319,  0.52356777, -0.04111489, -0.58936716, -0.04356873,\n",
              "        -0.06633906],\n",
              "       [-0.39130197,  0.54445767,  0.17031835, -0.27013618,  0.08640684,\n",
              "         0.08915105],\n",
              "       [-0.44702926,  0.40853771, -0.0281571 , -0.13753572,  0.13323164,\n",
              "         2.24329255],\n",
              "       ...,\n",
              "       [ 0.20032554,  1.31467078,  2.34838631, -0.54337975,  2.51121768,\n",
              "         0.12145607],\n",
              "       [-0.13538389, -0.51753572, -0.60251388, -0.41944059, -0.56977032,\n",
              "         0.21304614],\n",
              "       [-0.72930698, -0.5559243 , -0.57322717, -0.62009417, -0.50488752,\n",
              "        -0.52286938]])"
            ]
          },
          "metadata": {},
          "execution_count": 21
        }
      ]
    },
    {
      "cell_type": "code",
      "metadata": {
        "id": "SzQhbyBi1JoU"
      },
      "source": [
        "## since we have 6 columns, we must take min valu >= 6+1  i.e min >=7\n",
        "dbscan=DBSCAN(eps=0.8, min_samples=7)\n"
      ],
      "execution_count": 27,
      "outputs": []
    },
    {
      "cell_type": "code",
      "metadata": {
        "colab": {
          "base_uri": "https://localhost:8080/"
        },
        "id": "Kx_Y1ozO0A3B",
        "outputId": "cd04c49d-6b29-428c-f296-cd737b09e4a9"
      },
      "source": [
        "####apply bdscan algorithm on the scaled data set\n",
        "dbscan.fit(scaled)"
      ],
      "execution_count": 28,
      "outputs": [
        {
          "output_type": "execute_result",
          "data": {
            "text/plain": [
              "DBSCAN(algorithm='auto', eps=0.8, leaf_size=30, metric='euclidean',\n",
              "       metric_params=None, min_samples=7, n_jobs=None, p=None)"
            ]
          },
          "metadata": {},
          "execution_count": 28
        }
      ]
    },
    {
      "cell_type": "code",
      "metadata": {
        "id": "lOEZkFCH0A5L"
      },
      "source": [
        "###the outliers(noises) are given thhe label -1\n",
        "dbscan.labels_"
      ],
      "execution_count": null,
      "outputs": []
    },
    {
      "cell_type": "code",
      "metadata": {
        "id": "hDD-c9nq3hLk"
      },
      "source": [
        "####these -1 are the outliers.. remainin 0 belong to one clustter"
      ],
      "execution_count": null,
      "outputs": []
    },
    {
      "cell_type": "code",
      "metadata": {
        "id": "v4G-MA3U3hOP"
      },
      "source": [
        "cluster1=pd.DataFrame(dbscan.labels_,columns=['cluster'])\n",
        "cluster1"
      ],
      "execution_count": null,
      "outputs": []
    },
    {
      "cell_type": "code",
      "metadata": {
        "id": "6OSkxpLc3hRG"
      },
      "source": [
        "wc['cluster']=cluster1\n"
      ],
      "execution_count": 31,
      "outputs": []
    },
    {
      "cell_type": "code",
      "metadata": {
        "id": "0hH74zWF5Bh6"
      },
      "source": [
        "wc"
      ],
      "execution_count": null,
      "outputs": []
    },
    {
      "cell_type": "markdown",
      "metadata": {
        "id": "6ZdCasqZ5OHD"
      },
      "source": [
        "# ***there are more no. of outliers, so we can increase the epsilon value to 1***"
      ]
    },
    {
      "cell_type": "code",
      "metadata": {
        "id": "GwZUoQRr5NrT"
      },
      "source": [
        "dbscan=DBSCAN(eps=1, min_samples=7)\n"
      ],
      "execution_count": 35,
      "outputs": []
    },
    {
      "cell_type": "code",
      "metadata": {
        "colab": {
          "base_uri": "https://localhost:8080/"
        },
        "id": "MPDjTo5s5Nun",
        "outputId": "3741cbef-e739-445f-be4b-49bd9665d204"
      },
      "source": [
        "dbscan.fit(scaled)"
      ],
      "execution_count": 36,
      "outputs": [
        {
          "output_type": "execute_result",
          "data": {
            "text/plain": [
              "DBSCAN(algorithm='auto', eps=1, leaf_size=30, metric='euclidean',\n",
              "       metric_params=None, min_samples=7, n_jobs=None, p=None)"
            ]
          },
          "metadata": {},
          "execution_count": 36
        }
      ]
    },
    {
      "cell_type": "code",
      "metadata": {
        "id": "wO6lnv0x5NyC"
      },
      "source": [
        "dbscan.labels_"
      ],
      "execution_count": null,
      "outputs": []
    },
    {
      "cell_type": "code",
      "metadata": {
        "colab": {
          "base_uri": "https://localhost:8080/",
          "height": 420
        },
        "id": "iBd2j0Gj5517",
        "outputId": "5460c6e0-bbd5-4ed1-8d49-0c0e59d3aa3d"
      },
      "source": [
        "cluster2=pd.DataFrame(dbscan.labels_, columns=['cluster'])\n",
        "cluster2"
      ],
      "execution_count": 40,
      "outputs": [
        {
          "output_type": "execute_result",
          "data": {
            "text/html": [
              "<div>\n",
              "<style scoped>\n",
              "    .dataframe tbody tr th:only-of-type {\n",
              "        vertical-align: middle;\n",
              "    }\n",
              "\n",
              "    .dataframe tbody tr th {\n",
              "        vertical-align: top;\n",
              "    }\n",
              "\n",
              "    .dataframe thead th {\n",
              "        text-align: right;\n",
              "    }\n",
              "</style>\n",
              "<table border=\"1\" class=\"dataframe\">\n",
              "  <thead>\n",
              "    <tr style=\"text-align: right;\">\n",
              "      <th></th>\n",
              "      <th>cluster</th>\n",
              "    </tr>\n",
              "  </thead>\n",
              "  <tbody>\n",
              "    <tr>\n",
              "      <th>0</th>\n",
              "      <td>0</td>\n",
              "    </tr>\n",
              "    <tr>\n",
              "      <th>1</th>\n",
              "      <td>0</td>\n",
              "    </tr>\n",
              "    <tr>\n",
              "      <th>2</th>\n",
              "      <td>-1</td>\n",
              "    </tr>\n",
              "    <tr>\n",
              "      <th>3</th>\n",
              "      <td>0</td>\n",
              "    </tr>\n",
              "    <tr>\n",
              "      <th>4</th>\n",
              "      <td>0</td>\n",
              "    </tr>\n",
              "    <tr>\n",
              "      <th>...</th>\n",
              "      <td>...</td>\n",
              "    </tr>\n",
              "    <tr>\n",
              "      <th>435</th>\n",
              "      <td>-1</td>\n",
              "    </tr>\n",
              "    <tr>\n",
              "      <th>436</th>\n",
              "      <td>0</td>\n",
              "    </tr>\n",
              "    <tr>\n",
              "      <th>437</th>\n",
              "      <td>-1</td>\n",
              "    </tr>\n",
              "    <tr>\n",
              "      <th>438</th>\n",
              "      <td>0</td>\n",
              "    </tr>\n",
              "    <tr>\n",
              "      <th>439</th>\n",
              "      <td>0</td>\n",
              "    </tr>\n",
              "  </tbody>\n",
              "</table>\n",
              "<p>440 rows × 1 columns</p>\n",
              "</div>"
            ],
            "text/plain": [
              "     cluster\n",
              "0          0\n",
              "1          0\n",
              "2         -1\n",
              "3          0\n",
              "4          0\n",
              "..       ...\n",
              "435       -1\n",
              "436        0\n",
              "437       -1\n",
              "438        0\n",
              "439        0\n",
              "\n",
              "[440 rows x 1 columns]"
            ]
          },
          "metadata": {},
          "execution_count": 40
        }
      ]
    },
    {
      "cell_type": "code",
      "metadata": {
        "id": "72lXiDQ7556E"
      },
      "source": [
        "wc['cluster']=cluster2"
      ],
      "execution_count": 41,
      "outputs": []
    },
    {
      "cell_type": "code",
      "metadata": {
        "id": "6v9EfGWy559b"
      },
      "source": [
        "wc"
      ],
      "execution_count": null,
      "outputs": []
    },
    {
      "cell_type": "markdown",
      "metadata": {
        "id": "mg2VMx8l6w6P"
      },
      "source": [
        "# ***HERE THE DBSCAN IS UNABLE TO FIND THE CLUSTERS, BECAUSE IT IS GIVING ONLY ONE CLUSTER. AS THE DATAPOINTS ARE VERY NEARBY.***\n",
        "\n",
        "# **SO THAT WE CAN GO FOR THE KMEANS FOR THE CLUSTERING **"
      ]
    }
  ]
}