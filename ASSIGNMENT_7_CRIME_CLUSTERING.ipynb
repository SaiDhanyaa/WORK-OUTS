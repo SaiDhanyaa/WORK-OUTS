{
  "nbformat": 4,
  "nbformat_minor": 0,
  "metadata": {
    "colab": {
      "name": "ASSIGNMENT_7_CRIME_CLUSTERING.ipynb",
      "provenance": [],
      "collapsed_sections": [],
      "authorship_tag": "ABX9TyMOTJwEWBwaieiSSnOFf+fp",
      "include_colab_link": true
    },
    "kernelspec": {
      "name": "python3",
      "display_name": "Python 3"
    },
    "language_info": {
      "name": "python"
    }
  },
  "cells": [
    {
      "cell_type": "markdown",
      "metadata": {
        "id": "view-in-github",
        "colab_type": "text"
      },
      "source": [
        "<a href=\"https://colab.research.google.com/github/SaiDhanyaa/WORK-OUTS/blob/main/ASSIGNMENT_7_CRIME_CLUSTERING.ipynb\" target=\"_parent\"><img src=\"https://colab.research.google.com/assets/colab-badge.svg\" alt=\"Open In Colab\"/></a>"
      ]
    },
    {
      "cell_type": "markdown",
      "metadata": {
        "id": "kM0hTzO5ANz6"
      },
      "source": [
        "Perform Clustering(Hierarchical, Kmeans & DBSCAN) for the crime data and identify the number of clusters formed and draw inferences.\n",
        "\n",
        "Data Description:\n",
        "Murder -- Muder rates in different places of United States\n",
        "Assualt- Assualt rate in different places of United States\n",
        "UrbanPop - urban population in different places of United States\n",
        "Rape - Rape rate in different places of United States\n"
      ]
    },
    {
      "cell_type": "markdown",
      "metadata": {
        "id": "xyq0xeQV4sUy"
      },
      "source": [
        "## ***HIERARCHICAL CLUSTERING***"
      ]
    },
    {
      "cell_type": "code",
      "metadata": {
        "id": "lwqbx0-jVA02"
      },
      "source": [
        "#IMPRT HIERARCHICAL CLUSTERING LIBRARIES\n",
        "import scipy.cluster.hierarchy as sch\n",
        "from sklearn.cluster import AgglomerativeClustering\n",
        "import numpy as np\n",
        "import pandas as pd\n",
        "from matplotlib import pyplot as plt\n",
        "import seaborn as sn\n",
        "from sklearn.preprocessing import MinMaxScaler"
      ],
      "execution_count": 105,
      "outputs": []
    },
    {
      "cell_type": "code",
      "metadata": {
        "id": "xg-bdgwRVa0X"
      },
      "source": [
        "crime=pd.read_csv(\"/content/crime_data.csv\")"
      ],
      "execution_count": 106,
      "outputs": []
    },
    {
      "cell_type": "code",
      "metadata": {
        "id": "KVz-ZkppWjjS"
      },
      "source": [
        "crime.head(10)"
      ],
      "execution_count": null,
      "outputs": []
    },
    {
      "cell_type": "code",
      "metadata": {
        "id": "NF1jYFFIAy6b"
      },
      "source": [
        "crime.rename(columns={'Unnamed: 0':'country'}, inplace = True)\n",
        "crime.head()"
      ],
      "execution_count": null,
      "outputs": []
    },
    {
      "cell_type": "code",
      "metadata": {
        "id": "XHgLkvi0Va5i"
      },
      "source": [
        "# Normalization function ..# Normalized data frame (considering all the numerical part of data)\n",
        "norm = MinMaxScaler()\n",
        "crime_norm = pd.DataFrame(norm.fit_transform(crime.iloc[:,1:]))\n",
        "crime_norm.head()"
      ],
      "execution_count": null,
      "outputs": []
    },
    {
      "cell_type": "markdown",
      "metadata": {
        "id": "w-zOGL5gfpOK"
      },
      "source": [
        "# ***SINGLE LINKAGE METHOD***"
      ]
    },
    {
      "cell_type": "code",
      "metadata": {
        "id": "9bEdaTANVa-F"
      },
      "source": [
        "# create dendrogram\n",
        "dendrogram1 = sch.dendrogram(sch.linkage(crime_norm, method='single'))"
      ],
      "execution_count": null,
      "outputs": []
    },
    {
      "cell_type": "code",
      "metadata": {
        "id": "3ETwjqkqXyya"
      },
      "source": [
        "# create clusters\n",
        "hc1 = AgglomerativeClustering(n_clusters=2, affinity = 'euclidean', linkage = 'single')"
      ],
      "execution_count": 111,
      "outputs": []
    },
    {
      "cell_type": "code",
      "metadata": {
        "id": "rU2qDcQbW0rL"
      },
      "source": [
        "# save clusters for chart\n",
        "y_hc1 = hc1.fit_predict(crime_norm)\n",
        "Clusters1=pd.DataFrame(y_hc1,columns=['Clusters'])"
      ],
      "execution_count": 112,
      "outputs": []
    },
    {
      "cell_type": "code",
      "metadata": {
        "id": "q9z30F3jaZfL"
      },
      "source": [
        "Clusters1.head()"
      ],
      "execution_count": null,
      "outputs": []
    },
    {
      "cell_type": "code",
      "metadata": {
        "id": "QgCywpUOaZj8"
      },
      "source": [
        "crime['h_clust'] = Clusters1"
      ],
      "execution_count": 114,
      "outputs": []
    },
    {
      "cell_type": "code",
      "metadata": {
        "id": "XIm9g2R5aZmc"
      },
      "source": [
        "crime"
      ],
      "execution_count": null,
      "outputs": []
    },
    {
      "cell_type": "code",
      "metadata": {
        "id": "xh1vJBV27Nm1"
      },
      "source": [
        "crime.iloc[:,1:].groupby(crime.h_clust).mean()"
      ],
      "execution_count": null,
      "outputs": []
    },
    {
      "cell_type": "markdown",
      "metadata": {
        "id": "cyYM7uGlfsxt"
      },
      "source": [
        "## ***COMPLETE LINKAGE METHOD***"
      ]
    },
    {
      "cell_type": "code",
      "metadata": {
        "id": "bPUVRc1HVbAh"
      },
      "source": [
        "# create dendrogram\n",
        "dendrogram2 = sch.dendrogram(sch.linkage(crime_norm, method='complete'))"
      ],
      "execution_count": null,
      "outputs": []
    },
    {
      "cell_type": "code",
      "metadata": {
        "id": "DVbZEqrSZ-5e"
      },
      "source": [
        "# create clusters\n",
        "hc2 = AgglomerativeClustering(n_clusters=3, affinity = 'euclidean', linkage = 'complete')"
      ],
      "execution_count": 118,
      "outputs": []
    },
    {
      "cell_type": "code",
      "metadata": {
        "id": "gGy9A5nDgXz5"
      },
      "source": [
        "# save clusters for chart\n",
        "y_hc2 = hc2.fit_predict(crime_norm)\n",
        "Clusters2=pd.DataFrame(y_hc2,columns=['Clusters'])"
      ],
      "execution_count": 119,
      "outputs": []
    },
    {
      "cell_type": "code",
      "metadata": {
        "id": "omi1DTLxgXz6"
      },
      "source": [
        "Clusters2"
      ],
      "execution_count": null,
      "outputs": []
    },
    {
      "cell_type": "code",
      "metadata": {
        "id": "a1AkaJ4zgXz7"
      },
      "source": [
        "crime['h_clust'] = Clusters2"
      ],
      "execution_count": 121,
      "outputs": []
    },
    {
      "cell_type": "code",
      "metadata": {
        "id": "-9okFX5agXz8"
      },
      "source": [
        "crime.head()"
      ],
      "execution_count": null,
      "outputs": []
    },
    {
      "cell_type": "code",
      "metadata": {
        "id": "hBvsB_1z7L0K"
      },
      "source": [
        "crime.iloc[:,1:].groupby(crime.h_clust).mean()"
      ],
      "execution_count": null,
      "outputs": []
    },
    {
      "cell_type": "markdown",
      "metadata": {
        "id": "qxhvNyr-fxcn"
      },
      "source": [
        "## ***AVERAGE LINKAGE METHOD***"
      ]
    },
    {
      "cell_type": "code",
      "metadata": {
        "id": "-V9QAoafVbCz"
      },
      "source": [
        "# create dendrogram\n",
        "dendrogram3 = sch.dendrogram(sch.linkage(crime_norm, method='average'))"
      ],
      "execution_count": null,
      "outputs": []
    },
    {
      "cell_type": "code",
      "metadata": {
        "id": "4R0xsS7wZ-8a"
      },
      "source": [
        "# create clusters\n",
        "hc3 = AgglomerativeClustering(n_clusters=4, affinity = 'euclidean', linkage = 'average')"
      ],
      "execution_count": 125,
      "outputs": []
    },
    {
      "cell_type": "code",
      "metadata": {
        "id": "2YOOmqikgoMY"
      },
      "source": [
        "# save clusters for chart\n",
        "y_hc3 = hc3.fit_predict(crime_norm)\n",
        "Clusters3=pd.DataFrame(y_hc3,columns=['Clusters'])"
      ],
      "execution_count": 126,
      "outputs": []
    },
    {
      "cell_type": "code",
      "metadata": {
        "id": "lPXIwYYRgoMa"
      },
      "source": [
        "Clusters3"
      ],
      "execution_count": null,
      "outputs": []
    },
    {
      "cell_type": "code",
      "metadata": {
        "id": "XSnUZ0pQgoMb"
      },
      "source": [
        "crime['h_clust'] = Clusters3"
      ],
      "execution_count": 128,
      "outputs": []
    },
    {
      "cell_type": "code",
      "metadata": {
        "id": "XULvQnF3goMc"
      },
      "source": [
        "crime.head()"
      ],
      "execution_count": null,
      "outputs": []
    },
    {
      "cell_type": "code",
      "metadata": {
        "id": "qst4HWDK7Fgj"
      },
      "source": [
        "crime.iloc[:,1:].groupby(crime.h_clust).mean()"
      ],
      "execution_count": null,
      "outputs": []
    },
    {
      "cell_type": "markdown",
      "metadata": {
        "id": "TnMR84Ajf1j1"
      },
      "source": [
        "## ***CENTROID LINKAGE METHOD***"
      ]
    },
    {
      "cell_type": "code",
      "metadata": {
        "id": "XxbP6y1DVbFB"
      },
      "source": [
        "# create dendrogram\n",
        "dendrogram4 = sch.dendrogram(sch.linkage(crime_norm, method='centroid'))"
      ],
      "execution_count": null,
      "outputs": []
    },
    {
      "cell_type": "code",
      "metadata": {
        "id": "bgc0eb-3Z-_o"
      },
      "source": [
        "# create clusters\n",
        "hc4 = AgglomerativeClustering(n_clusters=4, affinity = 'euclidean', linkage = 'ward')"
      ],
      "execution_count": 132,
      "outputs": []
    },
    {
      "cell_type": "code",
      "metadata": {
        "id": "dkeGpkQsgzX3"
      },
      "source": [
        "# save clusters for chart\n",
        "y_hc4 = hc4.fit_predict(crime_norm)\n",
        "Clusters4=pd.DataFrame(y_hc4,columns=['Clusters'])"
      ],
      "execution_count": 133,
      "outputs": []
    },
    {
      "cell_type": "code",
      "metadata": {
        "id": "6OMBpnnOgzX5"
      },
      "source": [
        "Clusters4"
      ],
      "execution_count": null,
      "outputs": []
    },
    {
      "cell_type": "code",
      "metadata": {
        "id": "ZQkOdE6ugzX6"
      },
      "source": [
        "crime['h_clust'] = Clusters4"
      ],
      "execution_count": 135,
      "outputs": []
    },
    {
      "cell_type": "code",
      "metadata": {
        "id": "xjiuMVlUgzX7"
      },
      "source": [
        "crime.head()"
      ],
      "execution_count": null,
      "outputs": []
    },
    {
      "cell_type": "code",
      "metadata": {
        "colab": {
          "base_uri": "https://localhost:8080/",
          "height": 204
        },
        "id": "jvb1O6vm5Ss5",
        "outputId": "d39cddf5-0739-4108-8842-d189798bc5f2"
      },
      "source": [
        "crime.iloc[:,1:].groupby(crime.h_clust).mean()"
      ],
      "execution_count": 137,
      "outputs": [
        {
          "output_type": "execute_result",
          "data": {
            "text/html": [
              "<div>\n",
              "<style scoped>\n",
              "    .dataframe tbody tr th:only-of-type {\n",
              "        vertical-align: middle;\n",
              "    }\n",
              "\n",
              "    .dataframe tbody tr th {\n",
              "        vertical-align: top;\n",
              "    }\n",
              "\n",
              "    .dataframe thead th {\n",
              "        text-align: right;\n",
              "    }\n",
              "</style>\n",
              "<table border=\"1\" class=\"dataframe\">\n",
              "  <thead>\n",
              "    <tr style=\"text-align: right;\">\n",
              "      <th></th>\n",
              "      <th>Murder</th>\n",
              "      <th>Assault</th>\n",
              "      <th>UrbanPop</th>\n",
              "      <th>Rape</th>\n",
              "      <th>h_clust</th>\n",
              "    </tr>\n",
              "    <tr>\n",
              "      <th>h_clust</th>\n",
              "      <th></th>\n",
              "      <th></th>\n",
              "      <th></th>\n",
              "      <th></th>\n",
              "      <th></th>\n",
              "    </tr>\n",
              "  </thead>\n",
              "  <tbody>\n",
              "    <tr>\n",
              "      <th>0</th>\n",
              "      <td>6.055556</td>\n",
              "      <td>140.055556</td>\n",
              "      <td>71.333333</td>\n",
              "      <td>18.683333</td>\n",
              "      <td>0</td>\n",
              "    </tr>\n",
              "    <tr>\n",
              "      <th>1</th>\n",
              "      <td>10.815385</td>\n",
              "      <td>257.384615</td>\n",
              "      <td>76.000000</td>\n",
              "      <td>33.192308</td>\n",
              "      <td>1</td>\n",
              "    </tr>\n",
              "    <tr>\n",
              "      <th>2</th>\n",
              "      <td>3.091667</td>\n",
              "      <td>76.000000</td>\n",
              "      <td>52.083333</td>\n",
              "      <td>11.833333</td>\n",
              "      <td>2</td>\n",
              "    </tr>\n",
              "    <tr>\n",
              "      <th>3</th>\n",
              "      <td>14.671429</td>\n",
              "      <td>251.285714</td>\n",
              "      <td>54.285714</td>\n",
              "      <td>21.685714</td>\n",
              "      <td>3</td>\n",
              "    </tr>\n",
              "  </tbody>\n",
              "</table>\n",
              "</div>"
            ],
            "text/plain": [
              "            Murder     Assault   UrbanPop       Rape  h_clust\n",
              "h_clust                                                      \n",
              "0         6.055556  140.055556  71.333333  18.683333        0\n",
              "1        10.815385  257.384615  76.000000  33.192308        1\n",
              "2         3.091667   76.000000  52.083333  11.833333        2\n",
              "3        14.671429  251.285714  54.285714  21.685714        3"
            ]
          },
          "metadata": {},
          "execution_count": 137
        }
      ]
    },
    {
      "cell_type": "markdown",
      "metadata": {
        "id": "lSekmPtyhSYt"
      },
      "source": [
        "\n",
        "## ***Inference :***\n",
        "\n",
        "# 1.Average murder is highest in countries in cluster 3\n",
        "\n",
        "# 2Average assault and rape is highest in countries in cluster 1, where the urban population is also highest"
      ]
    },
    {
      "cell_type": "code",
      "metadata": {
        "id": "hvG3hD9kiFxg"
      },
      "source": [
        ""
      ],
      "execution_count": 137,
      "outputs": []
    },
    {
      "cell_type": "markdown",
      "metadata": {
        "id": "y-SAHUIhdUrW"
      },
      "source": [
        "## ***KMEAN***"
      ]
    },
    {
      "cell_type": "code",
      "metadata": {
        "id": "1ejh5CLi_XFT"
      },
      "source": [
        ""
      ],
      "execution_count": 137,
      "outputs": []
    },
    {
      "cell_type": "code",
      "metadata": {
        "id": "JcE-uNzXiv-9"
      },
      "source": [
        "import numpy as np\n",
        "import pandas as pd\n",
        "from matplotlib import pyplot as plt\n",
        "from sklearn.cluster import KMeans"
      ],
      "execution_count": 138,
      "outputs": []
    },
    {
      "cell_type": "code",
      "metadata": {
        "id": "7QEawAJOjO3E"
      },
      "source": [
        "crime= pd.read_csv(\"/content/crime_data.csv\")"
      ],
      "execution_count": 143,
      "outputs": []
    },
    {
      "cell_type": "code",
      "metadata": {
        "id": "oiOL4Kh1jcIs"
      },
      "source": [
        "crime.head()"
      ],
      "execution_count": null,
      "outputs": []
    },
    {
      "cell_type": "code",
      "metadata": {
        "colab": {
          "base_uri": "https://localhost:8080/",
          "height": 204
        },
        "id": "GKFg1_8qducf",
        "outputId": "9c44bb77-e94b-446c-ef85-396447875972"
      },
      "source": [
        "crime.rename(columns={'Unnamed: 0':'country'}, inplace = True)\n",
        "crime.head()"
      ],
      "execution_count": 148,
      "outputs": [
        {
          "output_type": "execute_result",
          "data": {
            "text/html": [
              "<div>\n",
              "<style scoped>\n",
              "    .dataframe tbody tr th:only-of-type {\n",
              "        vertical-align: middle;\n",
              "    }\n",
              "\n",
              "    .dataframe tbody tr th {\n",
              "        vertical-align: top;\n",
              "    }\n",
              "\n",
              "    .dataframe thead th {\n",
              "        text-align: right;\n",
              "    }\n",
              "</style>\n",
              "<table border=\"1\" class=\"dataframe\">\n",
              "  <thead>\n",
              "    <tr style=\"text-align: right;\">\n",
              "      <th></th>\n",
              "      <th>country</th>\n",
              "      <th>Murder</th>\n",
              "      <th>Assault</th>\n",
              "      <th>UrbanPop</th>\n",
              "      <th>Rape</th>\n",
              "    </tr>\n",
              "  </thead>\n",
              "  <tbody>\n",
              "    <tr>\n",
              "      <th>0</th>\n",
              "      <td>Alabama</td>\n",
              "      <td>13.2</td>\n",
              "      <td>236</td>\n",
              "      <td>58</td>\n",
              "      <td>21.2</td>\n",
              "    </tr>\n",
              "    <tr>\n",
              "      <th>1</th>\n",
              "      <td>Alaska</td>\n",
              "      <td>10.0</td>\n",
              "      <td>263</td>\n",
              "      <td>48</td>\n",
              "      <td>44.5</td>\n",
              "    </tr>\n",
              "    <tr>\n",
              "      <th>2</th>\n",
              "      <td>Arizona</td>\n",
              "      <td>8.1</td>\n",
              "      <td>294</td>\n",
              "      <td>80</td>\n",
              "      <td>31.0</td>\n",
              "    </tr>\n",
              "    <tr>\n",
              "      <th>3</th>\n",
              "      <td>Arkansas</td>\n",
              "      <td>8.8</td>\n",
              "      <td>190</td>\n",
              "      <td>50</td>\n",
              "      <td>19.5</td>\n",
              "    </tr>\n",
              "    <tr>\n",
              "      <th>4</th>\n",
              "      <td>California</td>\n",
              "      <td>9.0</td>\n",
              "      <td>276</td>\n",
              "      <td>91</td>\n",
              "      <td>40.6</td>\n",
              "    </tr>\n",
              "  </tbody>\n",
              "</table>\n",
              "</div>"
            ],
            "text/plain": [
              "      country  Murder  Assault  UrbanPop  Rape\n",
              "0     Alabama    13.2      236        58  21.2\n",
              "1      Alaska    10.0      263        48  44.5\n",
              "2     Arizona     8.1      294        80  31.0\n",
              "3    Arkansas     8.8      190        50  19.5\n",
              "4  California     9.0      276        91  40.6"
            ]
          },
          "metadata": {},
          "execution_count": 148
        }
      ]
    },
    {
      "cell_type": "code",
      "metadata": {
        "id": "Aud6apqSjO5n"
      },
      "source": [
        "# Normalization function \n",
        "from sklearn.preprocessing import StandardScaler\n",
        "scaler = StandardScaler()\n",
        "scaled_crime_df = scaler.fit_transform(crime.iloc[:,1:])"
      ],
      "execution_count": 150,
      "outputs": []
    },
    {
      "cell_type": "code",
      "metadata": {
        "id": "R8w6yy3Rq8-5"
      },
      "source": [
        "scaled_crime_df"
      ],
      "execution_count": null,
      "outputs": []
    },
    {
      "cell_type": "code",
      "metadata": {
        "id": "HwdFuMsOjO9f"
      },
      "source": [
        "# How to find optimum number of  cluster\n",
        "#The K-means algorithm aims to choose centroids that minimise the inertia, or within-cluster sum-of-squares criterion:"
      ],
      "execution_count": null,
      "outputs": []
    },
    {
      "cell_type": "code",
      "metadata": {
        "id": "QaqkIFImjPAV",
        "colab": {
          "base_uri": "https://localhost:8080/",
          "height": 295
        },
        "outputId": "63b55ec6-91b2-457a-e8ff-836e8905c7dc"
      },
      "source": [
        "wcss = []\n",
        "for i in range(1, 11):\n",
        "    kmeans = KMeans(n_clusters=i,random_state=0)\n",
        "    kmeans.fit(scaled_crime_df)\n",
        "    wcss.append(kmeans.inertia_)\n",
        "    \n",
        "plt.plot(range(1, 11), wcss)\n",
        "plt.title('Elbow Method')\n",
        "plt.xlabel('Number of clusters')\n",
        "plt.ylabel('WCSS')\n",
        "plt.show()"
      ],
      "execution_count": 152,
      "outputs": [
        {
          "output_type": "display_data",
          "data": {
            "image/png": "[encoded data removed]",
            "text/plain": [
              "<Figure size 432x288 with 1 Axes>"
            ]
          },
          "metadata": {
            "needs_background": "light"
          }
        }
      ]
    },
    {
      "cell_type": "code",
      "metadata": {
        "id": "FioDMfvvrDWZ"
      },
      "source": [
        ""
      ],
      "execution_count": null,
      "outputs": []
    },
    {
      "cell_type": "markdown",
      "metadata": {
        "id": "8TQBVOvarhXt"
      },
      "source": [
        "## ***WE HAVE CHOSEN THE BEST K VALUE IS 4. AND WE ARE GOING WITH IT***"
      ]
    },
    {
      "cell_type": "code",
      "metadata": {
        "id": "G_tlI4qkrDZx",
        "colab": {
          "base_uri": "https://localhost:8080/"
        },
        "outputId": "114c634a-cce2-43be-bcaa-c6439fed0bce"
      },
      "source": [
        "# buuild the clusters algorithm\n",
        "from sklearn.cluster import KMeans\n",
        "kmeans_cluster = KMeans(n_clusters=4, random_state=42)\n",
        "kmeans_cluster.fit(scaled_crime_df)"
      ],
      "execution_count": 153,
      "outputs": [
        {
          "output_type": "execute_result",
          "data": {
            "text/plain": [
              "KMeans(algorithm='auto', copy_x=True, init='k-means++', max_iter=300,\n",
              "       n_clusters=4, n_init=10, n_jobs=None, precompute_distances='auto',\n",
              "       random_state=42, tol=0.0001, verbose=0)"
            ]
          },
          "metadata": {},
          "execution_count": 153
        }
      ]
    },
    {
      "cell_type": "code",
      "metadata": {
        "id": "0rZ-aWlN0aqo",
        "colab": {
          "base_uri": "https://localhost:8080/"
        },
        "outputId": "49749e07-b7ed-4d13-cc6b-44ecdd8e5af6"
      },
      "source": [
        "kmeans_cluster.labels_"
      ],
      "execution_count": 154,
      "outputs": [
        {
          "output_type": "execute_result",
          "data": {
            "text/plain": [
              "array([0, 3, 3, 0, 3, 3, 1, 1, 3, 0, 1, 2, 3, 1, 2, 1, 2, 0, 2, 3, 1, 3,\n",
              "       2, 0, 3, 2, 2, 3, 2, 1, 3, 3, 0, 2, 1, 1, 1, 1, 1, 0, 2, 0, 3, 1,\n",
              "       2, 1, 1, 2, 2, 1], dtype=int32)"
            ]
          },
          "metadata": {},
          "execution_count": 154
        }
      ]
    },
    {
      "cell_type": "markdown",
      "metadata": {
        "id": "pfEJRKrB0jSP"
      },
      "source": [
        "# ***THESE ARE THE CLUSTER MEMBERS, THAT WE ARE GOING TO APPEND IT IN THE airlines DATASET***"
      ]
    },
    {
      "cell_type": "code",
      "metadata": {
        "id": "uWTDA4Yb1YNb"
      },
      "source": [
        "crime['clust4']=kmeans_cluster.labels_"
      ],
      "execution_count": 155,
      "outputs": []
    },
    {
      "cell_type": "code",
      "metadata": {
        "id": "3y0894Jz1xlG",
        "colab": {
          "base_uri": "https://localhost:8080/",
          "height": 204
        },
        "outputId": "e407740d-c467-4b3c-84b7-41f25c7f7710"
      },
      "source": [
        "crime.head()"
      ],
      "execution_count": 156,
      "outputs": [
        {
          "output_type": "execute_result",
          "data": {
            "text/html": [
              "<div>\n",
              "<style scoped>\n",
              "    .dataframe tbody tr th:only-of-type {\n",
              "        vertical-align: middle;\n",
              "    }\n",
              "\n",
              "    .dataframe tbody tr th {\n",
              "        vertical-align: top;\n",
              "    }\n",
              "\n",
              "    .dataframe thead th {\n",
              "        text-align: right;\n",
              "    }\n",
              "</style>\n",
              "<table border=\"1\" class=\"dataframe\">\n",
              "  <thead>\n",
              "    <tr style=\"text-align: right;\">\n",
              "      <th></th>\n",
              "      <th>country</th>\n",
              "      <th>Murder</th>\n",
              "      <th>Assault</th>\n",
              "      <th>UrbanPop</th>\n",
              "      <th>Rape</th>\n",
              "      <th>clust4</th>\n",
              "    </tr>\n",
              "  </thead>\n",
              "  <tbody>\n",
              "    <tr>\n",
              "      <th>0</th>\n",
              "      <td>Alabama</td>\n",
              "      <td>13.2</td>\n",
              "      <td>236</td>\n",
              "      <td>58</td>\n",
              "      <td>21.2</td>\n",
              "      <td>0</td>\n",
              "    </tr>\n",
              "    <tr>\n",
              "      <th>1</th>\n",
              "      <td>Alaska</td>\n",
              "      <td>10.0</td>\n",
              "      <td>263</td>\n",
              "      <td>48</td>\n",
              "      <td>44.5</td>\n",
              "      <td>3</td>\n",
              "    </tr>\n",
              "    <tr>\n",
              "      <th>2</th>\n",
              "      <td>Arizona</td>\n",
              "      <td>8.1</td>\n",
              "      <td>294</td>\n",
              "      <td>80</td>\n",
              "      <td>31.0</td>\n",
              "      <td>3</td>\n",
              "    </tr>\n",
              "    <tr>\n",
              "      <th>3</th>\n",
              "      <td>Arkansas</td>\n",
              "      <td>8.8</td>\n",
              "      <td>190</td>\n",
              "      <td>50</td>\n",
              "      <td>19.5</td>\n",
              "      <td>0</td>\n",
              "    </tr>\n",
              "    <tr>\n",
              "      <th>4</th>\n",
              "      <td>California</td>\n",
              "      <td>9.0</td>\n",
              "      <td>276</td>\n",
              "      <td>91</td>\n",
              "      <td>40.6</td>\n",
              "      <td>3</td>\n",
              "    </tr>\n",
              "  </tbody>\n",
              "</table>\n",
              "</div>"
            ],
            "text/plain": [
              "      country  Murder  Assault  UrbanPop  Rape  clust4\n",
              "0     Alabama    13.2      236        58  21.2       0\n",
              "1      Alaska    10.0      263        48  44.5       3\n",
              "2     Arizona     8.1      294        80  31.0       3\n",
              "3    Arkansas     8.8      190        50  19.5       0\n",
              "4  California     9.0      276        91  40.6       3"
            ]
          },
          "metadata": {},
          "execution_count": 156
        }
      ]
    },
    {
      "cell_type": "code",
      "metadata": {
        "id": "GnCmSwcw0gvC",
        "colab": {
          "base_uri": "https://localhost:8080/",
          "height": 204
        },
        "outputId": "202ddd2f-c047-4104-8820-5b3bbb47978a"
      },
      "source": [
        "crime.iloc[:,1:].groupby(crime.clust4).mean()"
      ],
      "execution_count": 157,
      "outputs": [
        {
          "output_type": "execute_result",
          "data": {
            "text/html": [
              "<div>\n",
              "<style scoped>\n",
              "    .dataframe tbody tr th:only-of-type {\n",
              "        vertical-align: middle;\n",
              "    }\n",
              "\n",
              "    .dataframe tbody tr th {\n",
              "        vertical-align: top;\n",
              "    }\n",
              "\n",
              "    .dataframe thead th {\n",
              "        text-align: right;\n",
              "    }\n",
              "</style>\n",
              "<table border=\"1\" class=\"dataframe\">\n",
              "  <thead>\n",
              "    <tr style=\"text-align: right;\">\n",
              "      <th></th>\n",
              "      <th>Murder</th>\n",
              "      <th>Assault</th>\n",
              "      <th>UrbanPop</th>\n",
              "      <th>Rape</th>\n",
              "      <th>clust4</th>\n",
              "    </tr>\n",
              "    <tr>\n",
              "      <th>clust4</th>\n",
              "      <th></th>\n",
              "      <th></th>\n",
              "      <th></th>\n",
              "      <th></th>\n",
              "      <th></th>\n",
              "    </tr>\n",
              "  </thead>\n",
              "  <tbody>\n",
              "    <tr>\n",
              "      <th>0</th>\n",
              "      <td>13.937500</td>\n",
              "      <td>243.625000</td>\n",
              "      <td>53.750000</td>\n",
              "      <td>21.412500</td>\n",
              "      <td>0</td>\n",
              "    </tr>\n",
              "    <tr>\n",
              "      <th>1</th>\n",
              "      <td>5.656250</td>\n",
              "      <td>138.875000</td>\n",
              "      <td>73.875000</td>\n",
              "      <td>18.781250</td>\n",
              "      <td>1</td>\n",
              "    </tr>\n",
              "    <tr>\n",
              "      <th>2</th>\n",
              "      <td>3.600000</td>\n",
              "      <td>78.538462</td>\n",
              "      <td>52.076923</td>\n",
              "      <td>12.176923</td>\n",
              "      <td>2</td>\n",
              "    </tr>\n",
              "    <tr>\n",
              "      <th>3</th>\n",
              "      <td>10.815385</td>\n",
              "      <td>257.384615</td>\n",
              "      <td>76.000000</td>\n",
              "      <td>33.192308</td>\n",
              "      <td>3</td>\n",
              "    </tr>\n",
              "  </tbody>\n",
              "</table>\n",
              "</div>"
            ],
            "text/plain": [
              "           Murder     Assault   UrbanPop       Rape  clust4\n",
              "clust4                                                     \n",
              "0       13.937500  243.625000  53.750000  21.412500       0\n",
              "1        5.656250  138.875000  73.875000  18.781250       1\n",
              "2        3.600000   78.538462  52.076923  12.176923       2\n",
              "3       10.815385  257.384615  76.000000  33.192308       3"
            ]
          },
          "metadata": {},
          "execution_count": 157
        }
      ]
    },
    {
      "cell_type": "markdown",
      "metadata": {
        "id": "YS7-PJSU26JO"
      },
      "source": [
        "## ***Inference :***\n",
        "# 1. Average murder is highest in countries in cluster 0\n",
        "# 2. Average assault and rape is highest in countries in cluster 3, where the urban population is also highest "
      ]
    },
    {
      "cell_type": "code",
      "metadata": {
        "id": "4LmrOUVj1lsv"
      },
      "source": [
        ""
      ],
      "execution_count": null,
      "outputs": []
    },
    {
      "cell_type": "code",
      "metadata": {
        "id": "zVoWILOof_5A"
      },
      "source": [
        ""
      ],
      "execution_count": null,
      "outputs": []
    },
    {
      "cell_type": "code",
      "metadata": {
        "id": "AGP_ZXH_f_83"
      },
      "source": [
        ""
      ],
      "execution_count": null,
      "outputs": []
    },
    {
      "cell_type": "code",
      "metadata": {
        "id": "LSldnkCJgAA6"
      },
      "source": [
        ""
      ],
      "execution_count": null,
      "outputs": []
    },
    {
      "cell_type": "code",
      "metadata": {
        "id": "skzzBZpAgAJW"
      },
      "source": [
        ""
      ],
      "execution_count": null,
      "outputs": []
    },
    {
      "cell_type": "markdown",
      "metadata": {
        "id": "PsFR27FlgAJX"
      },
      "source": [
        "## ***WE HAVE CHOSEN THE BEST K VALUE IS 5. AND WE ARE GOING WITH IT***"
      ]
    },
    {
      "cell_type": "code",
      "metadata": {
        "colab": {
          "base_uri": "https://localhost:8080/"
        },
        "id": "n0OriJ94gAJX",
        "outputId": "f986faec-976d-4fbb-f266-35dfe847483b"
      },
      "source": [
        "# buuild the clusters algorithm\n",
        "from sklearn.cluster import KMeans\n",
        "kmeans_cluster = KMeans(n_clusters=5, random_state=42)\n",
        "kmeans_cluster.fit(scaled_crime_df)"
      ],
      "execution_count": 158,
      "outputs": [
        {
          "output_type": "execute_result",
          "data": {
            "text/plain": [
              "KMeans(algorithm='auto', copy_x=True, init='k-means++', max_iter=300,\n",
              "       n_clusters=5, n_init=10, n_jobs=None, precompute_distances='auto',\n",
              "       random_state=42, tol=0.0001, verbose=0)"
            ]
          },
          "metadata": {},
          "execution_count": 158
        }
      ]
    },
    {
      "cell_type": "code",
      "metadata": {
        "colab": {
          "base_uri": "https://localhost:8080/"
        },
        "id": "XHxfD1gEgAJX",
        "outputId": "92451111-5ec1-4fb9-93c0-d0b37bdb7441"
      },
      "source": [
        "kmeans_cluster.labels_"
      ],
      "execution_count": 159,
      "outputs": [
        {
          "output_type": "execute_result",
          "data": {
            "text/plain": [
              "array([3, 0, 0, 4, 0, 0, 2, 4, 0, 3, 2, 1, 0, 4, 1, 4, 4, 3, 1, 0, 2, 0,\n",
              "       1, 3, 0, 4, 4, 0, 1, 2, 0, 0, 3, 1, 2, 4, 4, 2, 2, 3, 1, 3, 0, 2,\n",
              "       1, 4, 2, 1, 1, 4], dtype=int32)"
            ]
          },
          "metadata": {},
          "execution_count": 159
        }
      ]
    },
    {
      "cell_type": "markdown",
      "metadata": {
        "id": "xTytH8YmgAJY"
      },
      "source": [
        "# ***THESE ARE THE CLUSTER MEMBERS, THAT WE ARE GOING TO APPEND IT IN THE airlines DATASET***"
      ]
    },
    {
      "cell_type": "code",
      "metadata": {
        "id": "_tdHqi5ygAJY"
      },
      "source": [
        "crime['clust5']=kmeans_cluster.labels_"
      ],
      "execution_count": 160,
      "outputs": []
    },
    {
      "cell_type": "code",
      "metadata": {
        "colab": {
          "base_uri": "https://localhost:8080/",
          "height": 204
        },
        "id": "QR49wF_AgAJY",
        "outputId": "3de90ec3-b91e-4fe6-d96d-acd49eba5c02"
      },
      "source": [
        "crime.head()"
      ],
      "execution_count": 161,
      "outputs": [
        {
          "output_type": "execute_result",
          "data": {
            "text/html": [
              "<div>\n",
              "<style scoped>\n",
              "    .dataframe tbody tr th:only-of-type {\n",
              "        vertical-align: middle;\n",
              "    }\n",
              "\n",
              "    .dataframe tbody tr th {\n",
              "        vertical-align: top;\n",
              "    }\n",
              "\n",
              "    .dataframe thead th {\n",
              "        text-align: right;\n",
              "    }\n",
              "</style>\n",
              "<table border=\"1\" class=\"dataframe\">\n",
              "  <thead>\n",
              "    <tr style=\"text-align: right;\">\n",
              "      <th></th>\n",
              "      <th>country</th>\n",
              "      <th>Murder</th>\n",
              "      <th>Assault</th>\n",
              "      <th>UrbanPop</th>\n",
              "      <th>Rape</th>\n",
              "      <th>clust4</th>\n",
              "      <th>clust5</th>\n",
              "    </tr>\n",
              "  </thead>\n",
              "  <tbody>\n",
              "    <tr>\n",
              "      <th>0</th>\n",
              "      <td>Alabama</td>\n",
              "      <td>13.2</td>\n",
              "      <td>236</td>\n",
              "      <td>58</td>\n",
              "      <td>21.2</td>\n",
              "      <td>0</td>\n",
              "      <td>3</td>\n",
              "    </tr>\n",
              "    <tr>\n",
              "      <th>1</th>\n",
              "      <td>Alaska</td>\n",
              "      <td>10.0</td>\n",
              "      <td>263</td>\n",
              "      <td>48</td>\n",
              "      <td>44.5</td>\n",
              "      <td>3</td>\n",
              "      <td>0</td>\n",
              "    </tr>\n",
              "    <tr>\n",
              "      <th>2</th>\n",
              "      <td>Arizona</td>\n",
              "      <td>8.1</td>\n",
              "      <td>294</td>\n",
              "      <td>80</td>\n",
              "      <td>31.0</td>\n",
              "      <td>3</td>\n",
              "      <td>0</td>\n",
              "    </tr>\n",
              "    <tr>\n",
              "      <th>3</th>\n",
              "      <td>Arkansas</td>\n",
              "      <td>8.8</td>\n",
              "      <td>190</td>\n",
              "      <td>50</td>\n",
              "      <td>19.5</td>\n",
              "      <td>0</td>\n",
              "      <td>4</td>\n",
              "    </tr>\n",
              "    <tr>\n",
              "      <th>4</th>\n",
              "      <td>California</td>\n",
              "      <td>9.0</td>\n",
              "      <td>276</td>\n",
              "      <td>91</td>\n",
              "      <td>40.6</td>\n",
              "      <td>3</td>\n",
              "      <td>0</td>\n",
              "    </tr>\n",
              "  </tbody>\n",
              "</table>\n",
              "</div>"
            ],
            "text/plain": [
              "      country  Murder  Assault  UrbanPop  Rape  clust4  clust5\n",
              "0     Alabama    13.2      236        58  21.2       0       3\n",
              "1      Alaska    10.0      263        48  44.5       3       0\n",
              "2     Arizona     8.1      294        80  31.0       3       0\n",
              "3    Arkansas     8.8      190        50  19.5       0       4\n",
              "4  California     9.0      276        91  40.6       3       0"
            ]
          },
          "metadata": {},
          "execution_count": 161
        }
      ]
    },
    {
      "cell_type": "code",
      "metadata": {
        "colab": {
          "base_uri": "https://localhost:8080/",
          "height": 235
        },
        "id": "4jBIrckTgAJY",
        "outputId": "af6aaa2c-e841-4618-ad3f-c121c7176cd8"
      },
      "source": [
        "crime.iloc[:,1:].groupby(crime.clust5).mean()"
      ],
      "execution_count": 162,
      "outputs": [
        {
          "output_type": "execute_result",
          "data": {
            "text/html": [
              "<div>\n",
              "<style scoped>\n",
              "    .dataframe tbody tr th:only-of-type {\n",
              "        vertical-align: middle;\n",
              "    }\n",
              "\n",
              "    .dataframe tbody tr th {\n",
              "        vertical-align: top;\n",
              "    }\n",
              "\n",
              "    .dataframe thead th {\n",
              "        text-align: right;\n",
              "    }\n",
              "</style>\n",
              "<table border=\"1\" class=\"dataframe\">\n",
              "  <thead>\n",
              "    <tr style=\"text-align: right;\">\n",
              "      <th></th>\n",
              "      <th>Murder</th>\n",
              "      <th>Assault</th>\n",
              "      <th>UrbanPop</th>\n",
              "      <th>Rape</th>\n",
              "      <th>clust4</th>\n",
              "      <th>clust5</th>\n",
              "    </tr>\n",
              "    <tr>\n",
              "      <th>clust5</th>\n",
              "      <th></th>\n",
              "      <th></th>\n",
              "      <th></th>\n",
              "      <th></th>\n",
              "      <th></th>\n",
              "      <th></th>\n",
              "    </tr>\n",
              "  </thead>\n",
              "  <tbody>\n",
              "    <tr>\n",
              "      <th>0</th>\n",
              "      <td>10.815385</td>\n",
              "      <td>257.384615</td>\n",
              "      <td>76.000000</td>\n",
              "      <td>33.192308</td>\n",
              "      <td>3.000000</td>\n",
              "      <td>0</td>\n",
              "    </tr>\n",
              "    <tr>\n",
              "      <th>1</th>\n",
              "      <td>2.680000</td>\n",
              "      <td>70.100000</td>\n",
              "      <td>51.000000</td>\n",
              "      <td>10.910000</td>\n",
              "      <td>2.000000</td>\n",
              "      <td>1</td>\n",
              "    </tr>\n",
              "    <tr>\n",
              "      <th>2</th>\n",
              "      <td>4.955556</td>\n",
              "      <td>125.444444</td>\n",
              "      <td>80.111111</td>\n",
              "      <td>17.788889</td>\n",
              "      <td>1.000000</td>\n",
              "      <td>2</td>\n",
              "    </tr>\n",
              "    <tr>\n",
              "      <th>3</th>\n",
              "      <td>14.671429</td>\n",
              "      <td>251.285714</td>\n",
              "      <td>54.285714</td>\n",
              "      <td>21.685714</td>\n",
              "      <td>0.000000</td>\n",
              "      <td>3</td>\n",
              "    </tr>\n",
              "    <tr>\n",
              "      <th>4</th>\n",
              "      <td>6.790909</td>\n",
              "      <td>145.727273</td>\n",
              "      <td>61.636364</td>\n",
              "      <td>19.009091</td>\n",
              "      <td>1.181818</td>\n",
              "      <td>4</td>\n",
              "    </tr>\n",
              "  </tbody>\n",
              "</table>\n",
              "</div>"
            ],
            "text/plain": [
              "           Murder     Assault   UrbanPop       Rape    clust4  clust5\n",
              "clust5                                                               \n",
              "0       10.815385  257.384615  76.000000  33.192308  3.000000       0\n",
              "1        2.680000   70.100000  51.000000  10.910000  2.000000       1\n",
              "2        4.955556  125.444444  80.111111  17.788889  1.000000       2\n",
              "3       14.671429  251.285714  54.285714  21.685714  0.000000       3\n",
              "4        6.790909  145.727273  61.636364  19.009091  1.181818       4"
            ]
          },
          "metadata": {},
          "execution_count": 162
        }
      ]
    },
    {
      "cell_type": "markdown",
      "metadata": {
        "id": "12Sy0TPggAJY"
      },
      "source": [
        "## ***Inference :***\n",
        "# 1. Average murder is highest in countries in cluster 3\n",
        "# 2. Average assault and rape is highest in countries in cluster 0, where the urban population is also highest "
      ]
    },
    {
      "cell_type": "code",
      "metadata": {
        "id": "hPDMZUYh_0rK"
      },
      "source": [
        ""
      ],
      "execution_count": null,
      "outputs": []
    },
    {
      "cell_type": "markdown",
      "metadata": {
        "id": "nA2gS1yf_1VU"
      },
      "source": [
        "## ***DBSCAN***"
      ]
    }
  ]
}