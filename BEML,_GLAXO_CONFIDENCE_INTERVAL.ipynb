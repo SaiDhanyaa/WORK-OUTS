{
  "nbformat": 4,
  "nbformat_minor": 0,
  "metadata": {
    "colab": {
      "name": "BEML, GLAXO_CONFIDENCE INTERVAL.ipynb",
      "provenance": [],
      "collapsed_sections": [],
      "authorship_tag": "ABX9TyPAk3UNS9K5stgdRA3rSETK",
      "include_colab_link": true
    },
    "kernelspec": {
      "name": "python3",
      "display_name": "Python 3"
    },
    "language_info": {
      "name": "python"
    }
  },
  "cells": [
    {
      "cell_type": "markdown",
      "metadata": {
        "id": "view-in-github",
        "colab_type": "text"
      },
      "source": [
        "<a href=\"https://colab.research.google.com/github/SaiDhanyaa/Random-variable/blob/main/BEML%2C_GLAXO_CONFIDENCE_INTERVAL.ipynb\" target=\"_parent\"><img src=\"https://colab.research.google.com/assets/colab-badge.svg\" alt=\"Open In Colab\"/></a>"
      ]
    },
    {
      "cell_type": "code",
      "metadata": {
        "id": "7utKdLI75K24"
      },
      "source": [
        "from scipy import stats\n",
        "import numpy as np\n",
        "import pandas as pd"
      ],
      "execution_count": null,
      "outputs": []
    },
    {
      "cell_type": "code",
      "metadata": {
        "id": "XXIi2a_c9TNK"
      },
      "source": [
        "glaxo_df=pd.read_csv('/content/GLAXO.csv')\n",
        "beml_df=pd.read_csv('/content/BEML.csv')"
      ],
      "execution_count": null,
      "outputs": []
    },
    {
      "cell_type": "code",
      "metadata": {
        "id": "4OLR2pDQ3h3J"
      },
      "source": [
        "###USE pct_change... percentage change...... for immediate previous day means, periods=1; periods=2 means two days before\n",
        "\n",
        "glaxo_df['gain']=glaxo_df.Close.pct_change(periods=1)\n",
        "beml_df['gain']=beml_df.Close.pct_change(periods=1)"
      ],
      "execution_count": null,
      "outputs": []
    },
    {
      "cell_type": "markdown",
      "metadata": {
        "id": "IhAoD5kW18gZ"
      },
      "source": [
        "# **CONFIDENCE INTERVAL FORMULA**"
      ]
    },
    {
      "cell_type": "code",
      "metadata": {
        "id": "UwCzclKy1T5c",
        "colab": {
          "base_uri": "https://localhost:8080/"
        },
        "outputId": "25c0ed12-4fc4-435a-9e78-504e0e48ac27"
      },
      "source": [
        "glaxo_df_ci=stats.norm.interval(0.95, loc=glaxo_df.gain.mean(), scale=glaxo_df.gain.std() )\n",
        "print('GAIN AT 95% CONFIDENCE INTERVAL IS:' , np.round(glaxo_df_ci, 4))"
      ],
      "execution_count": null,
      "outputs": [
        {
          "output_type": "stream",
          "name": "stdout",
          "text": [
            "GAIN AT 95% CONFIDENCE INTERVAL IS: [-0.0258  0.0266]\n"
          ]
        }
      ]
    },
    {
      "cell_type": "code",
      "metadata": {
        "id": "_7aZSPLe1T8Q",
        "colab": {
          "base_uri": "https://localhost:8080/"
        },
        "outputId": "e2a9f9c9-92f3-4e77-c166-d20adf29c31d"
      },
      "source": [
        "beml_df_ci=stats.norm.interval(0.95, loc=beml_df.gain.mean(), scale=beml_df.gain.std() )\n",
        "print('GAIN AT 95% CONFIDENCE INTERVAL IS:' , np.round(beml_df_ci, 4))"
      ],
      "execution_count": null,
      "outputs": [
        {
          "output_type": "stream",
          "name": "stdout",
          "text": [
            "GAIN AT 95% CONFIDENCE INTERVAL IS: [-0.0515  0.0521]\n"
          ]
        }
      ]
    },
    {
      "cell_type": "code",
      "metadata": {
        "id": "cVWvTfDj1T_5"
      },
      "source": [
        ""
      ],
      "execution_count": null,
      "outputs": []
    },
    {
      "cell_type": "code",
      "metadata": {
        "id": "8CvPO17H9TPd"
      },
      "source": [
        ""
      ],
      "execution_count": null,
      "outputs": []
    },
    {
      "cell_type": "code",
      "metadata": {
        "id": "pGfyd7Ai9TRL"
      },
      "source": [
        ""
      ],
      "execution_count": null,
      "outputs": []
    }
  ]
}