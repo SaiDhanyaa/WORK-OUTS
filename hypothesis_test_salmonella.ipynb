{
  "nbformat": 4,
  "nbformat_minor": 0,
  "metadata": {
    "colab": {
      "name": "hypothesis_test_salmonella.ipynb",
      "provenance": [],
      "collapsed_sections": [],
      "authorship_tag": "ABX9TyNc0LRW00/qJv6Qn30rw+Ev",
      "include_colab_link": true
    },
    "kernelspec": {
      "name": "python3",
      "display_name": "Python 3"
    },
    "language_info": {
      "name": "python"
    }
  },
  "cells": [
    {
      "cell_type": "markdown",
      "metadata": {
        "id": "view-in-github",
        "colab_type": "text"
      },
      "source": [
        "<a href=\"https://colab.research.google.com/github/SaiDhanyaa/Random-variable/blob/main/hypothesis_test_salmonella.ipynb\" target=\"_parent\"><img src=\"https://colab.research.google.com/assets/colab-badge.svg\" alt=\"Open In Colab\"/></a>"
      ]
    },
    {
      "cell_type": "markdown",
      "metadata": {
        "id": "6UAecrMWeU_d"
      },
      "source": [
        "# **ONE SAMPLE-ONE TAIL t-TEST**"
      ]
    },
    {
      "cell_type": "markdown",
      "metadata": {
        "id": "cDoQalBRepy-"
      },
      "source": [
        "# **# problem statement:**\n",
        "An outbreak of sal monella related illness was attributed to icecream produced at a certain factory. Scientists measured the level of salmonella in 9 randomly sampled batches of icecream.\n",
        "the levels in (MPN/g) were, 0.593,0.142,0.329,0.691,0.231,0.793,0.519,0.392,0.418.\n",
        "# **Is there eveidence that the mean level of salmonella in the icecream is greater than 0.3(MPN/g) ?**"
      ]
    },
    {
      "cell_type": "code",
      "metadata": {
        "id": "F4vAetLubr4O"
      },
      "source": [
        "#import the libraries\n",
        "import pandas as pd\n",
        "import scipy\n",
        "import numpy as np\n",
        "from scipy import stats"
      ],
      "execution_count": 1,
      "outputs": []
    },
    {
      "cell_type": "code",
      "metadata": {
        "id": "sitWTRYTbxgu"
      },
      "source": [
        ""
      ],
      "execution_count": null,
      "outputs": []
    },
    {
      "cell_type": "markdown",
      "metadata": {
        "id": "oLA_3Wl2cC1-"
      },
      "source": [
        "### **one tail - test**"
      ]
    },
    {
      "cell_type": "code",
      "metadata": {
        "id": "yjbupCPWbxjd"
      },
      "source": [
        "#CREATE A DATA FRAME,\n",
        "dataframe= pd.Series([0.593,0.142,0.329,0.691,0.231,0.793,0.519,0.392,0.418])"
      ],
      "execution_count": 2,
      "outputs": []
    },
    {
      "cell_type": "code",
      "metadata": {
        "colab": {
          "base_uri": "https://localhost:8080/"
        },
        "id": "C3gKSRvUbxqe",
        "outputId": "f5f0d165-ea4a-4640-b1a3-4ae54f7f835f"
      },
      "source": [
        "#this gives two tail test p value. so divide by 2 to get the final p-value . theoutput will have both t and p value. the index[0] is t value, [1] is p value\n",
        "scipy.stats.ttest_1samp(dataframe, 0.3)\n"
      ],
      "execution_count": 6,
      "outputs": [
        {
          "output_type": "execute_result",
          "data": {
            "text/plain": [
              "Ttest_1sampResult(statistic=2.2050588385131595, pvalue=0.05853032968489765)"
            ]
          },
          "metadata": {},
          "execution_count": 6
        }
      ]
    },
    {
      "cell_type": "code",
      "metadata": {
        "id": "4ciQa7TRbxxl"
      },
      "source": [
        "p=scipy.stats.ttest_1samp(dataframe, 0.3)[1]\n",
        "p_value=p/2"
      ],
      "execution_count": 9,
      "outputs": []
    },
    {
      "cell_type": "code",
      "metadata": {
        "colab": {
          "base_uri": "https://localhost:8080/"
        },
        "id": "tWaaSHT3bxu5",
        "outputId": "0e8e5c33-3626-44ea-d381-3b3a07f0ba11"
      },
      "source": [
        "p_value"
      ],
      "execution_count": 5,
      "outputs": [
        {
          "output_type": "execute_result",
          "data": {
            "text/plain": [
              "0.029265164842448826"
            ]
          },
          "metadata": {},
          "execution_count": 5
        }
      ]
    },
    {
      "cell_type": "markdown",
      "metadata": {
        "id": "Wb47J9pXfykV"
      },
      "source": [
        "# **THE P value=0.029 which is less than alpha(0.05)**\n",
        "# **so , Reject the Null hypothesis ( mu<=0.3 is rejected)**\n",
        "# **select the alternate hypothesis, (mu>0.3) which means to take necessary action** **because the factory which sold the ice cream, has done malpractice.**"
      ]
    },
    {
      "cell_type": "code",
      "metadata": {
        "id": "46S5Eplubx1-"
      },
      "source": [
        ""
      ],
      "execution_count": null,
      "outputs": []
    },
    {
      "cell_type": "code",
      "metadata": {
        "id": "35vKmsEGbx4w"
      },
      "source": [
        ""
      ],
      "execution_count": null,
      "outputs": []
    }
  ]
}