{
  "nbformat": 4,
  "nbformat_minor": 0,
  "metadata": {
    "colab": {
      "name": "Hypothesis testing_placebo effect.ipynb",
      "provenance": [],
      "collapsed_sections": [],
      "authorship_tag": "ABX9TyOUWbVz2M8P6i5rz1CotgHJ",
      "include_colab_link": true
    },
    "kernelspec": {
      "name": "python3",
      "display_name": "Python 3"
    },
    "language_info": {
      "name": "python"
    }
  },
  "cells": [
    {
      "cell_type": "markdown",
      "metadata": {
        "id": "view-in-github",
        "colab_type": "text"
      },
      "source": [
        "<a href=\"https://colab.research.google.com/github/SaiDhanyaa/Random-variable/blob/main/Hypothesis_testing_placebo_effect.ipynb\" target=\"_parent\"><img src=\"https://colab.research.google.com/assets/colab-badge.svg\" alt=\"Open In Colab\"/></a>"
      ]
    },
    {
      "cell_type": "markdown",
      "metadata": {
        "id": "UrG3iraDiOd-"
      },
      "source": [
        "### **TWO SAMPLE- 2 TAIL t-TEST**"
      ]
    },
    {
      "cell_type": "markdown",
      "metadata": {
        "id": "yWZ6CHRDiscd"
      },
      "source": [
        "## **problem statement:**\n",
        "**6 subjects were given a drug(treatment group) and an additional 6 subjects a placebo(control group).**\n",
        "\n",
        "Their reaction time to a stimulus was measured (in *ms*).We want to perform two-sample t-test for comparing the means of the treatment and control groups\n",
        "\n",
        "control: 91,87,99,77,88,91\n",
        "\n",
        "treat: 101,110,103,93,99,104"
      ]
    },
    {
      "cell_type": "code",
      "metadata": {
        "id": "JR9zWoQRiMoL"
      },
      "source": [
        "#import the libraries\n",
        "import pandas as pd\n",
        "import scipy\n",
        "import numpy as np\n",
        "from scipy import stats"
      ],
      "execution_count": 2,
      "outputs": []
    },
    {
      "cell_type": "code",
      "metadata": {
        "colab": {
          "base_uri": "https://localhost:8080/"
        },
        "id": "NfZzDCbSinZc",
        "outputId": "8766e94a-2e6f-4b98-e8a7-c30e364ffba2"
      },
      "source": [
        "#CREATE 2 DATA FRAMES,\n",
        "control= pd.Series([91,87,99,77,88,91])\n",
        "treat= pd.Series([101,110,103,93,99,104])\n",
        "scipy.stats.ttest_ind(control,treat)"
      ],
      "execution_count": 4,
      "outputs": [
        {
          "output_type": "execute_result",
          "data": {
            "text/plain": [
              "Ttest_indResult(statistic=-3.445612673536487, pvalue=0.006272124350809803)"
            ]
          },
          "metadata": {},
          "execution_count": 4
        }
      ]
    },
    {
      "cell_type": "code",
      "metadata": {
        "id": "yUd-CdZqincP"
      },
      "source": [
        "#this gives two tail test p value. so divide by 2 to get the final p-value . theoutput will have both t and p value. the index[0] is t value, [1] is p value"
      ],
      "execution_count": null,
      "outputs": []
    },
    {
      "cell_type": "code",
      "metadata": {
        "colab": {
          "base_uri": "https://localhost:8080/"
        },
        "id": "U3BQ2apKineX",
        "outputId": "f896390a-cd46-4062-ff69-c9f00d97a4b7"
      },
      "source": [
        "p_value=scipy.stats.ttest_ind(control,treat)[1]\n",
        "p_value"
      ],
      "execution_count": 6,
      "outputs": [
        {
          "output_type": "execute_result",
          "data": {
            "text/plain": [
              "0.006272124350809803"
            ]
          },
          "metadata": {},
          "execution_count": 6
        }
      ]
    },
    {
      "cell_type": "code",
      "metadata": {
        "id": "oIABdhRainic"
      },
      "source": [
        ""
      ],
      "execution_count": null,
      "outputs": []
    },
    {
      "cell_type": "markdown",
      "metadata": {
        "id": "fDXR6Z3YyXz-"
      },
      "source": [
        "## **CONCLUSION**\n",
        "\n",
        "**THE P value=0.006 which is less than alpha(0.05)**\n",
        "**so , Reject the Null hypothesis ( mu of CG - mu of TG= 0, is rejected)** \n",
        "**# select the alternate hypothesis, (mu of CG - mu of TG != 0) which means THAT MEANS ARE STATISTICALLY SIGNIFICANTLY DIFFERWNT. .Then the company would conclude that there is the effect on the drug . Thus DRUG WORKS!!!!**"
      ]
    }
  ]
}